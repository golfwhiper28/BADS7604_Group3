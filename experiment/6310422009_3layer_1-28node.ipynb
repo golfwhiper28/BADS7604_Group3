{
  "cells": [
    {
      "cell_type": "markdown",
      "metadata": {
        "id": "view-in-github",
        "colab_type": "text"
      },
      "source": [
        "<a href=\"https://colab.research.google.com/github/taitip-supha/BADS7604_Group3/blob/main/experiment/6310422009_3layer_1-28node.ipynb\" target=\"_parent\"><img src=\"https://colab.research.google.com/assets/colab-badge.svg\" alt=\"Open In Colab\"/></a>"
      ]
    },
    {
      "cell_type": "markdown",
      "metadata": {
        "id": "b2bDLmGDV3xE"
      },
      "source": [
        "# (1 - RUN) Seting Import package and Parameter"
      ]
    },
    {
      "cell_type": "markdown",
      "metadata": {
        "id": "jV0qDUyVWDS8"
      },
      "source": [
        "ref : "
      ]
    },
    {
      "cell_type": "code",
      "execution_count": null,
      "metadata": {
        "colab": {
          "base_uri": "https://localhost:8080/"
        },
        "id": "ZN8SMaxuVcUT",
        "outputId": "b4ebb814-6214-4541-afd7-117b93869644"
      },
      "outputs": [
        {
          "data": {
            "text/html": [
              "        <script type=\"text/javascript\">\n",
              "        window.PlotlyConfig = {MathJaxConfig: 'local'};\n",
              "        if (window.MathJax) {MathJax.Hub.Config({SVG: {font: \"STIX-Web\"}});}\n",
              "        if (typeof require !== 'undefined') {\n",
              "        require.undef(\"plotly\");\n",
              "        requirejs.config({\n",
              "            paths: {\n",
              "                'plotly': ['https://cdn.plot.ly/plotly-2.8.3.min']\n",
              "            }\n",
              "        });\n",
              "        require(['plotly'], function(Plotly) {\n",
              "            window._Plotly = Plotly;\n",
              "        });\n",
              "        }\n",
              "        </script>\n",
              "        "
            ]
          },
          "metadata": {},
          "output_type": "display_data"
        }
      ],
      "source": [
        "#Set Environment and Parameter\n",
        "import pandas as pd \n",
        "import numpy as np\n",
        "import matplotlib\n",
        "import matplotlib.pyplot as plt\n",
        "import seaborn as sns\n",
        "%matplotlib inline \n",
        "import plotly.graph_objs as go\n",
        "import plotly.figure_factory as ff\n",
        "from plotly import tools\n",
        "from plotly.offline import download_plotlyjs, init_notebook_mode, plot, iplot\n",
        "init_notebook_mode(connected=True)\n",
        "\n",
        "\n",
        "import gc\n",
        "from datetime import datetime \n",
        "from sklearn.model_selection import train_test_split\n",
        "from sklearn.model_selection import KFold\n",
        "from sklearn.metrics import roc_auc_score ,f1_score ,precision_score ,recall_score\n",
        "from sklearn.ensemble import RandomForestClassifier\n",
        "from sklearn.ensemble import AdaBoostClassifier\n",
        "from sklearn import svm\n",
        "import lightgbm as lgb\n",
        "from lightgbm import LGBMClassifier\n",
        "import xgboost as xgb\n",
        "\n",
        "import time\n",
        "\n",
        "pd.set_option('display.max_columns', 100)\n",
        "\n",
        "\n",
        "\n",
        "RANDOM_STATE = 2018\n",
        "PREDS_RATIO = 0.5"
      ]
    },
    {
      "cell_type": "markdown",
      "metadata": {
        "id": "sNSGE6gb7ZJJ"
      },
      "source": [
        "# (2 - RUN) Prepar Data"
      ]
    },
    {
      "cell_type": "markdown",
      "metadata": {
        "id": "DG8juyY_Wn_E"
      },
      "source": [
        "## Import data"
      ]
    },
    {
      "cell_type": "code",
      "execution_count": null,
      "metadata": {
        "colab": {
          "base_uri": "https://localhost:8080/"
        },
        "id": "DaOHCQlAxgi-",
        "outputId": "b600a5b1-7b3e-4e06-e30d-12efd62638d0"
      },
      "outputs": [
        {
          "name": "stdout",
          "output_type": "stream",
          "text": [
            "Drive already mounted at /content/drive; to attempt to forcibly remount, call drive.mount(\"/content/drive\", force_remount=True).\n"
          ]
        }
      ],
      "source": [
        "from google.colab import drive\n",
        "drive.mount('/content/drive')"
      ]
    },
    {
      "cell_type": "code",
      "execution_count": null,
      "metadata": {
        "colab": {
          "base_uri": "https://localhost:8080/"
        },
        "id": "2MkllMpSWqhF",
        "outputId": "d81076e1-04e3-4d72-a3ba-478e122077bb"
      },
      "outputs": [
        {
          "name": "stdout",
          "output_type": "stream",
          "text": [
            "Size od data frame (284807, 31)\n"
          ]
        }
      ],
      "source": [
        "data_df = pd.read_csv(\"/content/drive/MyDrive/Colab Notebooks/BADS7604_DL/data/creditcard.csv\")\n",
        "data_df.head(3)\n",
        "print(f\"Size od data frame {data_df.shape}\")"
      ]
    },
    {
      "cell_type": "code",
      "execution_count": null,
      "metadata": {
        "id": "bfKDXnUDWvUz"
      },
      "outputs": [],
      "source": [
        "#Define predictors and target values\n",
        "target = 'Class'\n",
        "predictors = ['V1', 'V2', 'V3', 'V4', 'V5', 'V6', 'V7', 'V8', 'V9', 'V10','V11', 'V12', 'V13', 'V14', 'V15',\n",
        "                   'V16', 'V17', 'V18', 'V19','V20', 'V21', 'V22', 'V23', 'V24', 'V25', 'V26', 'V27', 'V28', 'Amount']"
      ]
    },
    {
      "cell_type": "code",
      "execution_count": null,
      "metadata": {
        "id": "q1Qa4CLPymy7"
      },
      "outputs": [],
      "source": [
        "df_x = data_df[predictors]\n",
        "df_y = data_df[target]"
      ]
    },
    {
      "cell_type": "markdown",
      "metadata": {
        "id": "PSDd-TUizRAL"
      },
      "source": [
        "## Scaling predictors"
      ]
    },
    {
      "cell_type": "code",
      "execution_count": null,
      "metadata": {
        "id": "TTFt5V4vzLao"
      },
      "outputs": [],
      "source": [
        "from sklearn.preprocessing import MinMaxScaler\n",
        "scaler = MinMaxScaler()\n",
        "df_x = pd.DataFrame(scaler.fit_transform(df_x))"
      ]
    },
    {
      "cell_type": "markdown",
      "metadata": {
        "id": "ZBylkpfpzv3w"
      },
      "source": [
        "## Split data in train, test"
      ]
    },
    {
      "cell_type": "code",
      "execution_count": null,
      "metadata": {
        "colab": {
          "base_uri": "https://localhost:8080/"
        },
        "id": "qKy9te-Kzjhw",
        "outputId": "8e0c3d14-3598-417e-a53b-817a8b1e16d4"
      },
      "outputs": [
        {
          "name": "stdout",
          "output_type": "stream",
          "text": [
            "Proportion of Target: 0.0017204678619236761\n"
          ]
        }
      ],
      "source": [
        "TEST_SIZE = 0.20 # test size using_train_test_split\n",
        "x_train, x_test, y_train, y_test = train_test_split(df_x, df_y, test_size=TEST_SIZE, random_state=RANDOM_STATE, shuffle=True )\n",
        "print(f\"Proportion of Target: {y_train.mean()}\")"
      ]
    },
    {
      "cell_type": "markdown",
      "metadata": {
        "id": "gWNXPx350s-w"
      },
      "source": [
        "## Oversampling Trainig Set"
      ]
    },
    {
      "cell_type": "code",
      "execution_count": null,
      "metadata": {
        "colab": {
          "base_uri": "https://localhost:8080/"
        },
        "id": "dernq4kG0rgc",
        "outputId": "3730e960-666f-4942-9070-a7c856004f92"
      },
      "outputs": [
        {
          "name": "stdout",
          "output_type": "stream",
          "text": [
            "Proportion after oversampling : 0.5\n"
          ]
        }
      ],
      "source": [
        "from imblearn.over_sampling import SMOTE\n",
        "smote = SMOTE(random_state = RANDOM_STATE ,sampling_strategy='minority')\n",
        "x_train, y_train = smote.fit_resample(x_train,y_train)\n",
        "print(f\"Proportion after oversampling : {y_train.mean()}\")"
      ]
    },
    {
      "cell_type": "markdown",
      "metadata": {
        "id": "3QTN7dYrhv-L"
      },
      "source": [
        "## Prepare Data in Numpy"
      ]
    },
    {
      "cell_type": "code",
      "execution_count": null,
      "metadata": {
        "colab": {
          "base_uri": "https://localhost:8080/"
        },
        "id": "fVaxQwkAhzdz",
        "outputId": "23289f04-365e-4755-d941-978d87b233a9"
      },
      "outputs": [
        {
          "name": "stdout",
          "output_type": "stream",
          "text": [
            " x_train.shape=(454906, 29), x_train.dtype=float32, min(x_train)=0.0000, max(x_train)=1.0000\n",
            " x_test.shape=(56962, 29), x_test.dtype=float32, min(x_test)=0.0000, max(x_test)=1.0000\n"
          ]
        }
      ],
      "source": [
        "#Predictor\n",
        "x_train = x_train.values.astype(np.float32)\n",
        "x_test  = x_test.values.astype(np.float32)\n",
        "print( f\" x_train.shape={x_train.shape}, x_train.dtype={x_train.dtype}, min(x_train)={np.min(x_train):0.4f}, max(x_train)={np.max(x_train):0.4f}\")\n",
        "print( f\" x_test.shape={x_test.shape}, x_test.dtype={x_test.dtype}, min(x_test)={np.min(x_test):0.4f}, max(x_test)={np.max(x_test):0.4f}\")"
      ]
    },
    {
      "cell_type": "code",
      "execution_count": null,
      "metadata": {
        "colab": {
          "base_uri": "https://localhost:8080/"
        },
        "id": "UfUf1izHhzgx",
        "outputId": "938800f1-dd2c-4dc1-b467-c1a09377adaf"
      },
      "outputs": [
        {
          "name": "stdout",
          "output_type": "stream",
          "text": [
            " y_train.shape=(454906,), y_train.dtype=int64, min(y_train)=0, max(y_train)=1\n",
            " y_test.shape=(56962,), y_test.dtype=int64, min(y_test)=0, max(y_test)=1\n"
          ]
        }
      ],
      "source": [
        "#Target\n",
        "y_train = y_train.values\n",
        "y_test = y_test.values\n",
        "print( f\" y_train.shape={y_train.shape}, y_train.dtype={y_train.dtype}, min(y_train)={np.min(y_train)}, max(y_train)={np.max(y_train)}\")\n",
        "print( f\" y_test.shape={y_test.shape}, y_test.dtype={y_test.dtype}, min(y_test)={np.min(y_test)}, max(y_test)={np.max(y_test)}\")"
      ]
    },
    {
      "cell_type": "markdown",
      "metadata": {
        "id": "QY4wdRXSkgQ5"
      },
      "source": [
        "## Create the network architecture"
      ]
    },
    {
      "cell_type": "code",
      "execution_count": null,
      "metadata": {
        "colab": {
          "base_uri": "https://localhost:8080/"
        },
        "id": "eJY_fmg0hZ4Y",
        "outputId": "7a43154d-d558-43f7-8e01-b175078438d8"
      },
      "outputs": [
        {
          "name": "stdout",
          "output_type": "stream",
          "text": [
            "Model: \"sequential\"\n",
            "_________________________________________________________________\n",
            " Layer (type)                Output Shape              Param #   \n",
            "=================================================================\n",
            " hidden1 (Dense)             (None, 32)                960       \n",
            "                                                                 \n",
            " bn1 (BatchNormalization)    (None, 32)                128       \n",
            "                                                                 \n",
            " output (Dense)              (None, 2)                 66        \n",
            "                                                                 \n",
            "=================================================================\n",
            "Total params: 1,154\n",
            "Trainable params: 1,090\n",
            "Non-trainable params: 64\n",
            "_________________________________________________________________\n"
          ]
        }
      ],
      "source": [
        "model = tf.keras.models.Sequential()\n",
        "\n",
        "#Input layer\n",
        "model.add(tf.keras.Input(shape=(input_dim,)))\n",
        "\n",
        "#Hidden layer\n",
        "model.add(tf.keras.layers.Dense(32, activation='relu', name='hidden1')) #use defult weight initialization, don't use any regularization\n",
        "model.add(tf.keras.layers.BatchNormalization(axis =-1, name='bn1'))\n",
        "\n",
        "#output layer\n",
        "model.add(tf.keras.layers.Dense(output_din, activation='softmax', name='output'))\n",
        "\n",
        "model.summary()"
      ]
    },
    {
      "cell_type": "markdown",
      "metadata": {
        "id": "Sh4XvOTqkp6W"
      },
      "source": [
        "## Compile the model"
      ]
    },
    {
      "cell_type": "code",
      "execution_count": null,
      "metadata": {
        "id": "C_qMWKNjku0d"
      },
      "outputs": [],
      "source": [
        "#Examples of compiling the model (only run one cell provided below)\n",
        "#1) complie with default values for both optimizer and loss\n",
        "# model.compile( optimizer='adam', loss='sparse_categorical_croseentropy', metrics=['acc'])\n",
        "#2) complie + Hyperparameter tuning\n",
        "model.compile(optimizer=tf.keras.optimizers.Adam(learning_rate=0.001), loss=tf.keras.losses.SparseCategoricalCrossentropy(from_logits=False), metrics=['acc'])"
      ]
    },
    {
      "cell_type": "markdown",
      "metadata": {
        "id": "kkNkR8hOk5M_"
      },
      "source": [
        "## Training the model"
      ]
    },
    {
      "cell_type": "code",
      "execution_count": null,
      "metadata": {
        "colab": {
          "base_uri": "https://localhost:8080/"
        },
        "id": "YGz6p-mak3UD",
        "outputId": "2d23893a-c1ac-4cde-b384-5025b8d3e7ac"
      },
      "outputs": [
        {
          "name": "stdout",
          "output_type": "stream",
          "text": [
            "Epoch 1/20\n",
            "2844/2844 [==============================] - 18s 6ms/step - loss: 0.1133 - acc: 0.9544 - val_loss: 0.2828 - val_acc: 0.8649\n",
            "Epoch 2/20\n",
            "2844/2844 [==============================] - 15s 5ms/step - loss: 0.1029 - acc: 0.9575 - val_loss: 0.2783 - val_acc: 0.8917\n",
            "Epoch 3/20\n",
            "2844/2844 [==============================] - 14s 5ms/step - loss: 0.0965 - acc: 0.9596 - val_loss: 0.2939 - val_acc: 0.8824\n",
            "Epoch 4/20\n",
            "2844/2844 [==============================] - 14s 5ms/step - loss: 0.0925 - acc: 0.9616 - val_loss: 0.0748 - val_acc: 0.9660\n",
            "Epoch 5/20\n",
            "2844/2844 [==============================] - 14s 5ms/step - loss: 0.0877 - acc: 0.9637 - val_loss: 0.1539 - val_acc: 0.9230\n",
            "Epoch 6/20\n",
            "2844/2844 [==============================] - 14s 5ms/step - loss: 0.0828 - acc: 0.9655 - val_loss: 0.1312 - val_acc: 0.9304\n",
            "Epoch 7/20\n",
            "2844/2844 [==============================] - 14s 5ms/step - loss: 0.0804 - acc: 0.9668 - val_loss: 0.0326 - val_acc: 0.9924\n",
            "Epoch 8/20\n",
            "2844/2844 [==============================] - 15s 5ms/step - loss: 0.0790 - acc: 0.9676 - val_loss: 0.0481 - val_acc: 0.9857\n",
            "Epoch 9/20\n",
            "2844/2844 [==============================] - 16s 6ms/step - loss: 0.0761 - acc: 0.9689 - val_loss: 0.0193 - val_acc: 0.9946\n",
            "Epoch 10/20\n",
            "2844/2844 [==============================] - 14s 5ms/step - loss: 0.0753 - acc: 0.9687 - val_loss: 0.0783 - val_acc: 0.9638\n",
            "Epoch 11/20\n",
            "2844/2844 [==============================] - 13s 5ms/step - loss: 0.0738 - acc: 0.9698 - val_loss: 1.7883 - val_acc: 0.6925\n",
            "Epoch 12/20\n",
            "2844/2844 [==============================] - 13s 5ms/step - loss: 0.0724 - acc: 0.9704 - val_loss: 0.2325 - val_acc: 0.9065\n",
            "Epoch 13/20\n",
            "2844/2844 [==============================] - 14s 5ms/step - loss: 0.0708 - acc: 0.9710 - val_loss: 0.6826 - val_acc: 0.8465\n",
            "Epoch 14/20\n",
            "2844/2844 [==============================] - 15s 5ms/step - loss: 0.0703 - acc: 0.9711 - val_loss: 0.4833 - val_acc: 0.8353\n",
            "Epoch 15/20\n",
            "2844/2844 [==============================] - 13s 5ms/step - loss: 0.0692 - acc: 0.9718 - val_loss: 0.0452 - val_acc: 0.9844\n",
            "Epoch 16/20\n",
            "2844/2844 [==============================] - 15s 5ms/step - loss: 0.0684 - acc: 0.9721 - val_loss: 0.1885 - val_acc: 0.9115\n",
            "Epoch 17/20\n",
            "2844/2844 [==============================] - 14s 5ms/step - loss: 0.0667 - acc: 0.9724 - val_loss: 0.0183 - val_acc: 0.9951\n",
            "Epoch 18/20\n",
            "2844/2844 [==============================] - 15s 5ms/step - loss: 0.0662 - acc: 0.9729 - val_loss: 0.0097 - val_acc: 0.9984\n",
            "Epoch 19/20\n",
            "2844/2844 [==============================] - 14s 5ms/step - loss: 0.0663 - acc: 0.9726 - val_loss: 0.0040 - val_acc: 0.9998\n",
            "Epoch 20/20\n",
            "2844/2844 [==============================] - 14s 5ms/step - loss: 0.0652 - acc: 0.9734 - val_loss: 0.0476 - val_acc: 0.9796\n",
            ">>>>> Training Time >>>> 286.36675357818604 seconds\n"
          ]
        }
      ],
      "source": [
        "start_tm = time.time()\n",
        "checkpoint_filepath = \"bestmodel_epoch{epoch:02d}_valloss{val_loss:.2f}.hdf5\"\n",
        "model_checkpoint_callback = tf.keras.callbacks.ModelCheckpoint(filepath=checkpoint_filepath, \n",
        "                                                               save_weights_only=True, \n",
        "                                                               monitor='val_acc', \n",
        "                                                               model='max', \n",
        "                                                               save_best_only=True)\n",
        "history = model.fit(x_train, y_train, batch_size=128, epochs=20, verbose=1, validation_split=0.2, callbacks=[model_checkpoint_callback])\n",
        "print(f\">>>>> Training Time >>>> {time.time() - start_tm} seconds\")"
      ]
    },
    {
      "cell_type": "code",
      "execution_count": null,
      "metadata": {
        "colab": {
          "base_uri": "https://localhost:8080/"
        },
        "id": "q7WgST9IlCDt",
        "outputId": "cc79ff74-8086-4939-ab58-b42155da9193"
      },
      "outputs": [
        {
          "name": "stdout",
          "output_type": "stream",
          "text": [
            "total 200\n",
            "-rw-r--r-- 1 root root 21056 Jan 26 13:43 bestmodel_epoch19_valloss0.00.hdf5\n",
            "-rw-r--r-- 1 root root 21056 Jan 26 13:43 bestmodel_epoch18_valloss0.01.hdf5\n",
            "-rw-r--r-- 1 root root 21056 Jan 26 13:43 bestmodel_epoch17_valloss0.02.hdf5\n",
            "-rw-r--r-- 1 root root 21056 Jan 26 13:41 bestmodel_epoch09_valloss0.02.hdf5\n",
            "-rw-r--r-- 1 root root 21056 Jan 26 13:40 bestmodel_epoch07_valloss0.03.hdf5\n",
            "-rw-r--r-- 1 root root 21056 Jan 26 13:40 bestmodel_epoch04_valloss0.07.hdf5\n",
            "-rw-r--r-- 1 root root 21056 Jan 26 13:39 bestmodel_epoch02_valloss0.28.hdf5\n",
            "-rw-r--r-- 1 root root 21056 Jan 26 13:39 bestmodel_epoch01_valloss0.28.hdf5\n",
            "drwx------ 6 root root  4096 Jan 26 13:25 drive\n",
            "drwxr-xr-x 1 root root  4096 Jan  7 14:33 sample_data\n"
          ]
        }
      ],
      "source": [
        "#Inspect the save file (sorted by modification date,  newest first)\n",
        "!ls -lt"
      ]
    },
    {
      "cell_type": "markdown",
      "metadata": {
        "id": "4wpIHu8BCxYO"
      },
      "source": [
        "## Model Performance"
      ]
    },
    {
      "cell_type": "code",
      "execution_count": null,
      "metadata": {
        "colab": {
          "base_uri": "https://localhost:8080/",
          "height": 350
        },
        "id": "37__pM9clFal",
        "outputId": "f88e82fd-376b-4cb4-fa0b-f533f310cf86"
      },
      "outputs": [
        {
          "data": {
            "image/png": "[encoded data removed]",
            "text/plain": [
              "<Figure size 1080x360 with 2 Axes>"
            ]
          },
          "metadata": {},
          "output_type": "display_data"
        }
      ],
      "source": [
        "#summary history for accuracy\n",
        "plt.figure(figsize=(15,5))\n",
        "plt.subplot(121)\n",
        "plt.plot(history.history['acc'])\n",
        "plt.plot(history.history['val_acc'])\n",
        "plt.title('Train Accuracy')\n",
        "plt.ylabel('accuracy')\n",
        "plt.xlabel('epoch')\n",
        "plt.legend(['train','test'] ,loc='upper left')\n",
        "plt.grid()\n",
        "\n",
        "#summary history for loss\n",
        "plt.subplot(122)\n",
        "plt.plot(history.history['loss'])\n",
        "plt.plot(history.history['val_loss'])\n",
        "plt.title('Train loss')\n",
        "plt.ylabel('loss')\n",
        "plt.xlabel('epoch')\n",
        "plt.legend(['train','test'] ,loc='upper left')\n",
        "plt.grid()\n",
        "plt.show()"
      ]
    },
    {
      "cell_type": "code",
      "execution_count": null,
      "metadata": {
        "colab": {
          "base_uri": "https://localhost:8080/"
        },
        "id": "vD9H0UHtlSd8",
        "outputId": "9e106363-a768-4de2-c735-78030a85286d"
      },
      "outputs": [
        {
          "name": "stdout",
          "output_type": "stream",
          "text": [
            "446/446 [==============================] - 1s 3ms/step - loss: 0.0893 - acc: 0.9667\n",
            "['loss', 'acc'] = [0.0893029198050499, 0.9666619896888733]\n"
          ]
        }
      ],
      "source": [
        "results = model.evaluate(x_test, y_test, batch_size=128)\n",
        "print(f\"{model.metrics_names} = {results}\")"
      ]
    },
    {
      "cell_type": "code",
      "execution_count": null,
      "metadata": {
        "id": "e2rP0Hrvot9o"
      },
      "outputs": [],
      "source": [
        "preds_mlp = model.predict(x_test)"
      ]
    },
    {
      "cell_type": "code",
      "execution_count": null,
      "metadata": {
        "colab": {
          "base_uri": "https://localhost:8080/"
        },
        "id": "UGw-VUFlpLZu",
        "outputId": "50cb1592-f718-423a-edb6-5f3d5ddbd036"
      },
      "outputs": [
        {
          "name": "stdout",
          "output_type": "stream",
          "text": [
            "AUC:0.9710373360064719\n",
            "F1 Score:0.9814461515184617\n",
            "Precision:0.9981237714256764\n",
            "Recall:0.9666619851831045\n"
          ]
        }
      ],
      "source": [
        "pfm_auc = roc_auc_score(y_test, preds_mlp[:,1])\n",
        "pfm_f1 = f1_score(y_test, np.where(preds_mlp[:,1]>PREDS_RATIO,1,0), average='weighted')\n",
        "pfm_precision = precision_score(y_test, np.where(preds_mlp[:,1]>PREDS_RATIO,1,0), average='weighted')\n",
        "pfm_recall = recall_score(y_test, np.where(preds_mlp[:,1]>PREDS_RATIO,1,0), average='weighted')\n",
        "print(f\"AUC:{pfm_auc}\\nF1 Score:{pfm_f1}\\nPrecision:{pfm_precision}\\nRecall:{pfm_recall}\")"
      ]
    },
    {
      "cell_type": "code",
      "execution_count": null,
      "metadata": {
        "colab": {
          "base_uri": "https://localhost:8080/",
          "height": 351
        },
        "id": "CnsTj0kAp-jG",
        "outputId": "5a90b44e-b654-45fb-97e1-4d06718be2c2"
      },
      "outputs": [
        {
          "data": {
            "image/png": "[encoded data removed]",
            "text/plain": [
              "<Figure size 360x360 with 2 Axes>"
            ]
          },
          "metadata": {},
          "output_type": "display_data"
        }
      ],
      "source": [
        "cm = pd.crosstab(y_test, np.where(preds_mlp[:,1]>PREDS_RATIO,1,0), rownames=['Actual'], colnames=['Predicted'])\n",
        "fig, (ax1) = plt.subplots(ncols=1, figsize=(5,5))\n",
        "sns.heatmap(cm, \n",
        "            xticklabels=['Not Fraud', 'Fraud'],\n",
        "            yticklabels=['Not Fraud', 'Fraud'],\n",
        "            annot=True,ax=ax1,\n",
        "            linewidths=.2,linecolor=\"Darkblue\", cmap=\"Blues\")\n",
        "plt.title('Confusion Matrix', fontsize=14)\n",
        "plt.show()"
      ]
    },
    {
      "cell_type": "markdown",
      "metadata": {
        "id": "Iz6X0Yf3BecL"
      },
      "source": [
        "# (3 - Run) Loop Training DP-MLP"
      ]
    },
    {
      "cell_type": "markdown",
      "metadata": {
        "id": "Pf1umIoo3Qun"
      },
      "source": [
        "## Set seed"
      ]
    },
    {
      "cell_type": "code",
      "execution_count": null,
      "metadata": {
        "id": "UbErwOBUB9d_"
      },
      "outputs": [],
      "source": [
        "import sys\n",
        "import tensorflow as tf\n",
        "#seting\n",
        "np.random.seed(1234)\n",
        "tf.random.set_seed(5678)\n",
        "_,input_dim = x_train.shape #the number of features per one input\n",
        "output_din = len(set(y_train)) #the number of output classes"
      ]
    },
    {
      "cell_type": "markdown",
      "metadata": {
        "id": "xjXVMJw93MeS"
      },
      "source": [
        "## Create Function and setting model"
      ]
    },
    {
      "cell_type": "code",
      "execution_count": null,
      "metadata": {
        "id": "S7Zyp7LBH5Yl"
      },
      "outputs": [],
      "source": [
        "def mlp_training(batchSize ,epochNum ,learnRate ,optzer ,nodes_num=1 ,nodes_act='relu'):\n",
        "  model = tf.keras.models.Sequential()\n",
        "  #Input layer\n",
        "  model.add(tf.keras.Input(shape=(input_dim,)))\n",
        "  #Hidden -----------------------------------------------------------------------------------------------------------------------------------------------------------------------\n",
        "  #> 1 layer\n",
        "  model.add(tf.keras.layers.Dense(nodes_num, activation=nodes_act, name='hidden1')) \n",
        "  model.add(tf.keras.layers.BatchNormalization(axis =-1, name='bn1'))\n",
        "  #> 2 layer\n",
        "  model.add(tf.keras.layers.Dense(nodes_num, activation=nodes_act, name='hidden2')) \n",
        "  model.add(tf.keras.layers.BatchNormalization(axis =-1, name='bn2'))  \n",
        "  #> 3 layer\n",
        "  model.add(tf.keras.layers.Dense(nodes_num, activation=nodes_act, name='hidden3')) \n",
        "  model.add(tf.keras.layers.BatchNormalization(axis =-1, name='bn3'))  \n",
        "  #----------------------------------------------------------------------------------------------------------------------------------------------------------------------------------\n",
        "  #output layer\n",
        "  model.add(tf.keras.layers.Dense(2, activation='softmax' , name='output'))\n",
        "\n",
        "  #Compiling the model\n",
        "  if optzer.lower() == 'adum':\n",
        "    opt = tf.keras.optimizers.Adam(learning_rate=learnRate)\n",
        "  elif optzer.lower() == 'sgd':\n",
        "    opt = tf.keras.optimizers.SGD(learning_rate=learnRate)\n",
        "  else :\n",
        "    print('error optimizers')\n",
        "  model.compile(optimizer=opt\n",
        "                      , loss=tf.keras.losses.SparseCategoricalCrossentropy(from_logits=False)\n",
        "                      , metrics=['acc'])\n",
        "  #Training\n",
        "  history = model.fit(x_train, y_train, batch_size=batchSize, epochs=epochNum, verbose=0, validation_split=0.2)\n",
        "  return model,history"
      ]
    },
    {
      "cell_type": "markdown",
      "metadata": {
        "id": "ii1mlI873i9a"
      },
      "source": [
        "## Loop"
      ]
    },
    {
      "cell_type": "code",
      "execution_count": null,
      "metadata": {
        "id": "RU_iVR9_95LA"
      },
      "outputs": [],
      "source": [
        "#list of Parameter batchSize ,epochNum ,learnRate ,optzer ,nodes_num=1 ,nodes_act='relu'\n",
        "lst_batch = [256, 512, 1024]\n",
        "lst_epoch = [10, 25, 50]\n",
        "lst_learn = [0.001 ,0.005]\n",
        "lst_opt = ['adum' ,'sgd']\n",
        "lst_node = [1,28,56]\n",
        "lst_activation = ['sigmoid', 'relu']"
      ]
    },
    {
      "cell_type": "code",
      "execution_count": null,
      "metadata": {
        "colab": {
          "base_uri": "https://localhost:8080/",
          "height": 130
        },
        "id": "5tmL3IJlCA_j",
        "outputId": "ce160b58-8ac7-4417-88bf-4ed06e1b8ee3"
      },
      "outputs": [
        {
          "name": "stdout",
          "output_type": "stream",
          "text": [
            "Last step is : 9\n"
          ]
        },
        {
          "data": {
            "text/html": [
              "\n",
              "  <div id=\"df-7e655889-bc0a-467d-8ba8-7f2fbeda51b0\">\n",
              "    <div class=\"colab-df-container\">\n",
              "      <div>\n",
              "<style scoped>\n",
              "    .dataframe tbody tr th:only-of-type {\n",
              "        vertical-align: middle;\n",
              "    }\n",
              "\n",
              "    .dataframe tbody tr th {\n",
              "        vertical-align: top;\n",
              "    }\n",
              "\n",
              "    .dataframe thead th {\n",
              "        text-align: right;\n",
              "    }\n",
              "</style>\n",
              "<table border=\"1\" class=\"dataframe\">\n",
              "  <thead>\n",
              "    <tr style=\"text-align: right;\">\n",
              "      <th></th>\n",
              "      <th>batch_size</th>\n",
              "      <th>epoch</th>\n",
              "      <th>learning_rate</th>\n",
              "      <th>optimizer</th>\n",
              "      <th>num_node</th>\n",
              "      <th>activation</th>\n",
              "      <th>layers</th>\n",
              "      <th>runing_times</th>\n",
              "      <th>auc</th>\n",
              "      <th>f1score</th>\n",
              "      <th>precision</th>\n",
              "      <th>recall</th>\n",
              "      <th>loss</th>\n",
              "      <th>acc</th>\n",
              "    </tr>\n",
              "  </thead>\n",
              "  <tbody>\n",
              "    <tr>\n",
              "      <th>7</th>\n",
              "      <td>256</td>\n",
              "      <td>10</td>\n",
              "      <td>0.001</td>\n",
              "      <td>sgd</td>\n",
              "      <td>1</td>\n",
              "      <td>relu</td>\n",
              "      <td>hidden1|bn1|hidden2|bn2|hidden3|bn3|output</td>\n",
              "      <td>82.772641</td>\n",
              "      <td>0.957397</td>\n",
              "      <td>0.991174</td>\n",
              "      <td>0.998181</td>\n",
              "      <td>0.985359</td>\n",
              "      <td>0.083462</td>\n",
              "      <td>0.985359</td>\n",
              "    </tr>\n",
              "    <tr>\n",
              "      <th>8</th>\n",
              "      <td>256</td>\n",
              "      <td>10</td>\n",
              "      <td>0.001</td>\n",
              "      <td>sgd</td>\n",
              "      <td>28</td>\n",
              "      <td>sigmoid</td>\n",
              "      <td>hidden1|bn1|hidden2|bn2|hidden3|bn3|output</td>\n",
              "      <td>82.738010</td>\n",
              "      <td>0.974822</td>\n",
              "      <td>0.992894</td>\n",
              "      <td>0.998264</td>\n",
              "      <td>0.988606</td>\n",
              "      <td>0.067524</td>\n",
              "      <td>0.988606</td>\n",
              "    </tr>\n",
              "  </tbody>\n",
              "</table>\n",
              "</div>\n",
              "      <button class=\"colab-df-convert\" onclick=\"convertToInteractive('df-7e655889-bc0a-467d-8ba8-7f2fbeda51b0')\"\n",
              "              title=\"Convert this dataframe to an interactive table.\"\n",
              "              style=\"display:none;\">\n",
              "        \n",
              "  <svg xmlns=\"http://www.w3.org/2000/svg\" height=\"24px\"viewBox=\"0 0 24 24\"\n",
              "       width=\"24px\">\n",
              "    <path d=\"M0 0h24v24H0V0z\" fill=\"none\"/>\n",
              "    <path d=\"M18.56 5.44l.94 2.06.94-2.06 2.06-.94-2.06-.94-.94-2.06-.94 2.06-2.06.94zm-11 1L8.5 8.5l.94-2.06 2.06-.94-2.06-.94L8.5 2.5l-.94 2.06-2.06.94zm10 10l.94 2.06.94-2.06 2.06-.94-2.06-.94-.94-2.06-.94 2.06-2.06.94z\"/><path d=\"M17.41 7.96l-1.37-1.37c-.4-.4-.92-.59-1.43-.59-.52 0-1.04.2-1.43.59L10.3 9.45l-7.72 7.72c-.78.78-.78 2.05 0 2.83L4 21.41c.39.39.9.59 1.41.59.51 0 1.02-.2 1.41-.59l7.78-7.78 2.81-2.81c.8-.78.8-2.07 0-2.86zM5.41 20L4 18.59l7.72-7.72 1.47 1.35L5.41 20z\"/>\n",
              "  </svg>\n",
              "      </button>\n",
              "      \n",
              "  <style>\n",
              "    .colab-df-container {\n",
              "      display:flex;\n",
              "      flex-wrap:wrap;\n",
              "      gap: 12px;\n",
              "    }\n",
              "\n",
              "    .colab-df-convert {\n",
              "      background-color: #E8F0FE;\n",
              "      border: none;\n",
              "      border-radius: 50%;\n",
              "      cursor: pointer;\n",
              "      display: none;\n",
              "      fill: #1967D2;\n",
              "      height: 32px;\n",
              "      padding: 0 0 0 0;\n",
              "      width: 32px;\n",
              "    }\n",
              "\n",
              "    .colab-df-convert:hover {\n",
              "      background-color: #E2EBFA;\n",
              "      box-shadow: 0px 1px 2px rgba(60, 64, 67, 0.3), 0px 1px 3px 1px rgba(60, 64, 67, 0.15);\n",
              "      fill: #174EA6;\n",
              "    }\n",
              "\n",
              "    [theme=dark] .colab-df-convert {\n",
              "      background-color: #3B4455;\n",
              "      fill: #D2E3FC;\n",
              "    }\n",
              "\n",
              "    [theme=dark] .colab-df-convert:hover {\n",
              "      background-color: #434B5C;\n",
              "      box-shadow: 0px 1px 3px 1px rgba(0, 0, 0, 0.15);\n",
              "      filter: drop-shadow(0px 1px 2px rgba(0, 0, 0, 0.3));\n",
              "      fill: #FFFFFF;\n",
              "    }\n",
              "  </style>\n",
              "\n",
              "      <script>\n",
              "        const buttonEl =\n",
              "          document.querySelector('#df-7e655889-bc0a-467d-8ba8-7f2fbeda51b0 button.colab-df-convert');\n",
              "        buttonEl.style.display =\n",
              "          google.colab.kernel.accessAllowed ? 'block' : 'none';\n",
              "\n",
              "        async function convertToInteractive(key) {\n",
              "          const element = document.querySelector('#df-7e655889-bc0a-467d-8ba8-7f2fbeda51b0');\n",
              "          const dataTable =\n",
              "            await google.colab.kernel.invokeFunction('convertToInteractive',\n",
              "                                                     [key], {});\n",
              "          if (!dataTable) return;\n",
              "\n",
              "          const docLinkHtml = 'Like what you see? Visit the ' +\n",
              "            '<a target=\"_blank\" href=https://colab.research.google.com/notebooks/data_table.ipynb>data table notebook</a>'\n",
              "            + ' to learn more about interactive tables.';\n",
              "          element.innerHTML = '';\n",
              "          dataTable['output_type'] = 'display_data';\n",
              "          await google.colab.output.renderOutput(dataTable, element);\n",
              "          const docLink = document.createElement('div');\n",
              "          docLink.innerHTML = docLinkHtml;\n",
              "          element.appendChild(docLink);\n",
              "        }\n",
              "      </script>\n",
              "    </div>\n",
              "  </div>\n",
              "  "
            ],
            "text/plain": [
              "   batch_size  epoch  learning_rate optimizer  num_node activation  \\\n",
              "7         256     10          0.001       sgd         1       relu   \n",
              "8         256     10          0.001       sgd        28    sigmoid   \n",
              "\n",
              "                                       layers  runing_times       auc  \\\n",
              "7  hidden1|bn1|hidden2|bn2|hidden3|bn3|output     82.772641  0.957397   \n",
              "8  hidden1|bn1|hidden2|bn2|hidden3|bn3|output     82.738010  0.974822   \n",
              "\n",
              "    f1score  precision    recall      loss       acc  \n",
              "7  0.991174   0.998181  0.985359  0.083462  0.985359  \n",
              "8  0.992894   0.998264  0.988606  0.067524  0.988606  "
            ]
          },
          "execution_count": 27,
          "metadata": {},
          "output_type": "execute_result"
        }
      ],
      "source": [
        "#Import last result\n",
        "#For New Loop\n",
        "#df_result_MLP = pd.DataFrame()\n",
        "#Continue from last state\n",
        "df_result_MLP = pd.read_csv('/content/drive/MyDrive/Colab Notebooks/BADS7604_DL/data/mlp_result_l007_c009.csv')\n",
        "last_step = len(df_result_MLP)\n",
        "print(f\"Last step is : {last_step}\")\n",
        "df_result_MLP.tail(2)"
      ]
    },
    {
      "cell_type": "code",
      "execution_count": null,
      "metadata": {
        "colab": {
          "background_save": true,
          "base_uri": "https://localhost:8080/"
        },
        "id": "nwfi1HFHIx5S",
        "outputId": "2631e30a-2387-4bd9-a7a6-b30384a065a8"
      },
      "outputs": [
        {
          "name": "stdout",
          "output_type": "stream",
          "text": [
            "Skip step : 1\n",
            "Skip step : 2\n",
            "Skip step : 3\n",
            "Skip step : 4\n",
            "Skip step : 5\n",
            "Skip step : 6\n",
            "Skip step : 7\n",
            "Skip step : 8\n",
            "Skip step : 9\n",
            "Size of table (10, 14) time: 0.88 min\n",
            "Size of table (11, 14) time: 2.33 min\n",
            "Size of table (12, 14) time: 3.22 min\n",
            "Size of table (13, 14) time: 4.18 min\n"
          ]
        },
        {
          "name": "stderr",
          "output_type": "stream",
          "text": [
            "/usr/local/lib/python3.7/dist-packages/sklearn/metrics/_classification.py:1318: UndefinedMetricWarning:\n",
            "\n",
            "Precision is ill-defined and being set to 0.0 in labels with no predicted samples. Use `zero_division` parameter to control this behavior.\n",
            "\n"
          ]
        },
        {
          "name": "stdout",
          "output_type": "stream",
          "text": [
            "Size of table (14, 14) time: 5.63 min\n",
            "Size of table (15, 14) time: 6.56 min\n",
            "Size of table (16, 14) time: 8.00 min\n",
            "Size of table (17, 14) time: 9.45 min\n",
            "Size of table (18, 14) time: 10.90 min\n",
            "Size of table (19, 14) time: 11.78 min\n"
          ]
        },
        {
          "name": "stderr",
          "output_type": "stream",
          "text": [
            "/usr/local/lib/python3.7/dist-packages/sklearn/metrics/_classification.py:1318: UndefinedMetricWarning:\n",
            "\n",
            "Precision is ill-defined and being set to 0.0 in labels with no predicted samples. Use `zero_division` parameter to control this behavior.\n",
            "\n"
          ]
        },
        {
          "name": "stdout",
          "output_type": "stream",
          "text": [
            "Size of table (20, 14) time: 13.21 min\n",
            "Size of table (21, 14) time: 14.09 min\n",
            "Size of table (22, 14) time: 14.98 min\n",
            "Size of table (23, 14) time: 16.42 min\n",
            "Size of table (24, 14) time: 17.87 min\n",
            "Size of table (25, 14) time: 20.11 min\n"
          ]
        },
        {
          "name": "stderr",
          "output_type": "stream",
          "text": [
            "/usr/local/lib/python3.7/dist-packages/sklearn/metrics/_classification.py:1318: UndefinedMetricWarning:\n",
            "\n",
            "Precision is ill-defined and being set to 0.0 in labels with no predicted samples. Use `zero_division` parameter to control this behavior.\n",
            "\n"
          ]
        },
        {
          "name": "stdout",
          "output_type": "stream",
          "text": [
            "Size of table (26, 14) time: 22.55 min\n",
            "Size of table (27, 14) time: 24.77 min\n",
            "Size of table (28, 14) time: 27.21 min\n",
            "Size of table (29, 14) time: 29.42 min\n",
            "Size of table (30, 14) time: 31.86 min\n",
            "Size of table (31, 14) time: 34.30 min\n"
          ]
        },
        {
          "name": "stderr",
          "output_type": "stream",
          "text": [
            "/usr/local/lib/python3.7/dist-packages/sklearn/metrics/_classification.py:1318: UndefinedMetricWarning:\n",
            "\n",
            "Precision is ill-defined and being set to 0.0 in labels with no predicted samples. Use `zero_division` parameter to control this behavior.\n",
            "\n"
          ]
        },
        {
          "name": "stdout",
          "output_type": "stream",
          "text": [
            "Size of table (32, 14) time: 36.43 min\n",
            "Size of table (33, 14) time: 38.87 min\n",
            "Size of table (34, 14) time: 40.98 min\n",
            "Size of table (35, 14) time: 43.43 min\n",
            "Size of table (36, 14) time: 45.86 min\n",
            "Size of table (37, 14) time: 48.30 min\n"
          ]
        },
        {
          "name": "stderr",
          "output_type": "stream",
          "text": [
            "/usr/local/lib/python3.7/dist-packages/sklearn/metrics/_classification.py:1318: UndefinedMetricWarning:\n",
            "\n",
            "Precision is ill-defined and being set to 0.0 in labels with no predicted samples. Use `zero_division` parameter to control this behavior.\n",
            "\n"
          ]
        },
        {
          "name": "stdout",
          "output_type": "stream",
          "text": [
            "Size of table (38, 14) time: 50.55 min\n",
            "Size of table (39, 14) time: 52.78 min\n",
            "Size of table (40, 14) time: 54.98 min\n",
            "Size of table (41, 14) time: 57.42 min\n",
            "Size of table (42, 14) time: 59.86 min\n",
            "Size of table (43, 14) time: 62.29 min\n"
          ]
        },
        {
          "name": "stderr",
          "output_type": "stream",
          "text": [
            "/usr/local/lib/python3.7/dist-packages/sklearn/metrics/_classification.py:1318: UndefinedMetricWarning:\n",
            "\n",
            "Precision is ill-defined and being set to 0.0 in labels with no predicted samples. Use `zero_division` parameter to control this behavior.\n",
            "\n"
          ]
        },
        {
          "name": "stdout",
          "output_type": "stream",
          "text": [
            "Size of table (44, 14) time: 64.39 min\n",
            "Size of table (45, 14) time: 66.83 min\n",
            "Size of table (46, 14) time: 69.25 min\n",
            "Size of table (47, 14) time: 71.68 min\n",
            "Size of table (48, 14) time: 73.79 min\n",
            "Size of table (49, 14) time: 78.22 min\n",
            "Size of table (50, 14) time: 82.62 min\n",
            "Size of table (51, 14) time: 87.07 min\n",
            "Size of table (52, 14) time: 91.51 min\n",
            "Size of table (53, 14) time: 95.94 min\n",
            "Size of table (54, 14) time: 100.38 min\n",
            "Size of table (55, 14) time: 104.46 min\n",
            "Size of table (56, 14) time: 108.91 min\n",
            "Size of table (57, 14) time: 113.35 min\n",
            "Size of table (58, 14) time: 117.79 min\n",
            "Size of table (59, 14) time: 122.22 min\n",
            "Size of table (60, 14) time: 126.39 min\n",
            "Size of table (61, 14) time: 130.73 min\n",
            "Size of table (62, 14) time: 135.17 min\n",
            "Size of table (63, 14) time: 139.61 min\n",
            "Size of table (64, 14) time: 144.01 min\n",
            "Size of table (65, 14) time: 148.31 min\n",
            "Size of table (66, 14) time: 152.71 min\n",
            "Size of table (67, 14) time: 156.84 min\n"
          ]
        },
        {
          "name": "stderr",
          "output_type": "stream",
          "text": [
            "/usr/local/lib/python3.7/dist-packages/sklearn/metrics/_classification.py:1318: UndefinedMetricWarning:\n",
            "\n",
            "Precision is ill-defined and being set to 0.0 in labels with no predicted samples. Use `zero_division` parameter to control this behavior.\n",
            "\n"
          ]
        },
        {
          "name": "stdout",
          "output_type": "stream",
          "text": [
            "Size of table (68, 14) time: 161.28 min\n",
            "Size of table (69, 14) time: 165.42 min\n",
            "Size of table (70, 14) time: 169.54 min\n",
            "Size of table (71, 14) time: 173.98 min\n",
            "Size of table (72, 14) time: 178.42 min\n",
            "Size of table (73, 14) time: 179.20 min\n"
          ]
        },
        {
          "name": "stderr",
          "output_type": "stream",
          "text": [
            "/usr/local/lib/python3.7/dist-packages/sklearn/metrics/_classification.py:1318: UndefinedMetricWarning:\n",
            "\n",
            "Precision is ill-defined and being set to 0.0 in labels with no predicted samples. Use `zero_division` parameter to control this behavior.\n",
            "\n"
          ]
        },
        {
          "name": "stdout",
          "output_type": "stream",
          "text": [
            "Size of table (74, 14) time: 179.95 min\n",
            "Size of table (75, 14) time: 180.47 min\n",
            "Size of table (76, 14) time: 180.98 min\n",
            "Size of table (77, 14) time: 181.50 min\n",
            "Size of table (78, 14) time: 182.02 min\n",
            "Size of table (79, 14) time: 182.78 min\n",
            "Size of table (80, 14) time: 183.29 min\n",
            "Size of table (81, 14) time: 183.79 min\n",
            "Size of table (82, 14) time: 184.28 min\n",
            "Size of table (83, 14) time: 185.04 min\n",
            "Size of table (84, 14) time: 185.55 min\n",
            "Size of table (85, 14) time: 186.31 min\n"
          ]
        },
        {
          "name": "stderr",
          "output_type": "stream",
          "text": [
            "/usr/local/lib/python3.7/dist-packages/sklearn/metrics/_classification.py:1318: UndefinedMetricWarning:\n",
            "\n",
            "Precision is ill-defined and being set to 0.0 in labels with no predicted samples. Use `zero_division` parameter to control this behavior.\n",
            "\n"
          ]
        },
        {
          "name": "stdout",
          "output_type": "stream",
          "text": [
            "Size of table (86, 14) time: 187.06 min\n",
            "Size of table (87, 14) time: 187.58 min\n",
            "Size of table (88, 14) time: 188.32 min\n",
            "Size of table (89, 14) time: 188.82 min\n",
            "Size of table (90, 14) time: 189.34 min\n",
            "Size of table (91, 14) time: 190.09 min\n"
          ]
        },
        {
          "name": "stderr",
          "output_type": "stream",
          "text": [
            "/usr/local/lib/python3.7/dist-packages/sklearn/metrics/_classification.py:1318: UndefinedMetricWarning:\n",
            "\n",
            "Precision is ill-defined and being set to 0.0 in labels with no predicted samples. Use `zero_division` parameter to control this behavior.\n",
            "\n"
          ]
        },
        {
          "name": "stdout",
          "output_type": "stream",
          "text": [
            "Size of table (92, 14) time: 190.58 min\n",
            "Size of table (93, 14) time: 191.07 min\n",
            "Size of table (94, 14) time: 191.84 min\n",
            "Size of table (95, 14) time: 192.60 min\n",
            "Size of table (96, 14) time: 193.36 min\n",
            "Size of table (97, 14) time: 194.55 min\n",
            "Size of table (98, 14) time: 195.72 min\n",
            "Size of table (99, 14) time: 196.89 min\n",
            "Size of table (100, 14) time: 198.34 min\n",
            "Size of table (101, 14) time: 199.79 min\n",
            "Size of table (102, 14) time: 200.93 min\n",
            "Size of table (103, 14) time: 202.03 min\n",
            "Size of table (104, 14) time: 203.14 min\n",
            "Size of table (105, 14) time: 204.27 min\n",
            "Size of table (106, 14) time: 205.70 min\n",
            "Size of table (107, 14) time: 207.14 min\n",
            "Size of table (108, 14) time: 208.25 min\n",
            "Size of table (109, 14) time: 209.45 min\n"
          ]
        },
        {
          "name": "stderr",
          "output_type": "stream",
          "text": [
            "/usr/local/lib/python3.7/dist-packages/sklearn/metrics/_classification.py:1318: UndefinedMetricWarning:\n",
            "\n",
            "Precision is ill-defined and being set to 0.0 in labels with no predicted samples. Use `zero_division` parameter to control this behavior.\n",
            "\n"
          ]
        },
        {
          "name": "stdout",
          "output_type": "stream",
          "text": [
            "Size of table (110, 14) time: 210.89 min\n",
            "Size of table (111, 14) time: 212.34 min\n",
            "Size of table (112, 14) time: 213.52 min\n",
            "Size of table (113, 14) time: 214.97 min\n",
            "Size of table (114, 14) time: 216.43 min\n",
            "Size of table (115, 14) time: 217.87 min\n"
          ]
        },
        {
          "name": "stderr",
          "output_type": "stream",
          "text": [
            "/usr/local/lib/python3.7/dist-packages/sklearn/metrics/_classification.py:1318: UndefinedMetricWarning:\n",
            "\n",
            "Precision is ill-defined and being set to 0.0 in labels with no predicted samples. Use `zero_division` parameter to control this behavior.\n",
            "\n"
          ]
        },
        {
          "name": "stdout",
          "output_type": "stream",
          "text": [
            "Size of table (116, 14) time: 219.32 min\n",
            "Size of table (117, 14) time: 220.41 min\n",
            "Size of table (118, 14) time: 221.85 min\n",
            "Size of table (119, 14) time: 223.29 min\n",
            "Size of table (120, 14) time: 224.73 min\n",
            "Size of table (121, 14) time: 227.17 min\n"
          ]
        },
        {
          "name": "stderr",
          "output_type": "stream",
          "text": [
            "/usr/local/lib/python3.7/dist-packages/sklearn/metrics/_classification.py:1318: UndefinedMetricWarning:\n",
            "\n",
            "Precision is ill-defined and being set to 0.0 in labels with no predicted samples. Use `zero_division` parameter to control this behavior.\n",
            "\n"
          ]
        },
        {
          "name": "stdout",
          "output_type": "stream",
          "text": [
            "Size of table (122, 14) time: 229.62 min\n",
            "Size of table (123, 14) time: 232.05 min\n",
            "Size of table (124, 14) time: 234.49 min\n",
            "Size of table (125, 14) time: 236.94 min\n",
            "Size of table (126, 14) time: 239.38 min\n",
            "Size of table (127, 14) time: 241.82 min\n",
            "Size of table (128, 14) time: 244.25 min\n",
            "Size of table (129, 14) time: 246.70 min\n",
            "Size of table (130, 14) time: 249.14 min\n",
            "Size of table (131, 14) time: 251.26 min\n",
            "Size of table (132, 14) time: 253.38 min\n",
            "Size of table (133, 14) time: 255.82 min\n"
          ]
        },
        {
          "name": "stderr",
          "output_type": "stream",
          "text": [
            "/usr/local/lib/python3.7/dist-packages/sklearn/metrics/_classification.py:1318: UndefinedMetricWarning:\n",
            "\n",
            "Precision is ill-defined and being set to 0.0 in labels with no predicted samples. Use `zero_division` parameter to control this behavior.\n",
            "\n"
          ]
        },
        {
          "name": "stdout",
          "output_type": "stream",
          "text": [
            "Size of table (134, 14) time: 258.25 min\n",
            "Size of table (135, 14) time: 260.69 min\n",
            "Size of table (136, 14) time: 262.95 min\n",
            "Size of table (137, 14) time: 265.39 min\n",
            "Size of table (138, 14) time: 267.59 min\n",
            "Size of table (139, 14) time: 269.71 min\n",
            "Size of table (140, 14) time: 271.83 min\n",
            "Size of table (141, 14) time: 273.93 min\n",
            "Size of table (142, 14) time: 276.05 min\n",
            "Size of table (143, 14) time: 278.14 min\n",
            "Size of table (144, 14) time: 280.58 min\n",
            "Size of table (145, 14) time: 280.89 min\n",
            "Size of table (146, 14) time: 281.32 min\n",
            "Size of table (147, 14) time: 281.73 min\n",
            "Size of table (148, 14) time: 282.04 min\n",
            "Size of table (149, 14) time: 282.47 min\n",
            "Size of table (150, 14) time: 282.90 min\n",
            "Size of table (151, 14) time: 283.31 min\n"
          ]
        },
        {
          "name": "stderr",
          "output_type": "stream",
          "text": [
            "/usr/local/lib/python3.7/dist-packages/sklearn/metrics/_classification.py:1318: UndefinedMetricWarning:\n",
            "\n",
            "Precision is ill-defined and being set to 0.0 in labels with no predicted samples. Use `zero_division` parameter to control this behavior.\n",
            "\n"
          ]
        },
        {
          "name": "stdout",
          "output_type": "stream",
          "text": [
            "Size of table (152, 14) time: 283.60 min\n",
            "Size of table (153, 14) time: 283.90 min\n",
            "Size of table (154, 14) time: 284.19 min\n",
            "Size of table (155, 14) time: 284.50 min\n",
            "Size of table (156, 14) time: 284.92 min\n",
            "Size of table (157, 14) time: 285.23 min\n"
          ]
        },
        {
          "name": "stderr",
          "output_type": "stream",
          "text": [
            "/usr/local/lib/python3.7/dist-packages/sklearn/metrics/_classification.py:1318: UndefinedMetricWarning:\n",
            "\n",
            "Precision is ill-defined and being set to 0.0 in labels with no predicted samples. Use `zero_division` parameter to control this behavior.\n",
            "\n"
          ]
        },
        {
          "name": "stdout",
          "output_type": "stream",
          "text": [
            "Size of table (158, 14) time: 285.55 min\n",
            "Size of table (159, 14) time: 285.88 min\n",
            "Size of table (160, 14) time: 286.18 min\n",
            "Size of table (161, 14) time: 286.50 min\n",
            "Size of table (162, 14) time: 286.92 min\n",
            "Size of table (163, 14) time: 287.23 min\n"
          ]
        },
        {
          "name": "stderr",
          "output_type": "stream",
          "text": [
            "/usr/local/lib/python3.7/dist-packages/sklearn/metrics/_classification.py:1318: UndefinedMetricWarning:\n",
            "\n",
            "Precision is ill-defined and being set to 0.0 in labels with no predicted samples. Use `zero_division` parameter to control this behavior.\n",
            "\n"
          ]
        },
        {
          "name": "stdout",
          "output_type": "stream",
          "text": [
            "Size of table (164, 14) time: 287.64 min\n",
            "Size of table (165, 14) time: 287.94 min\n",
            "Size of table (166, 14) time: 288.25 min\n",
            "Size of table (167, 14) time: 288.53 min\n",
            "Size of table (168, 14) time: 288.93 min\n",
            "Size of table (169, 14) time: 289.59 min\n",
            "Size of table (170, 14) time: 290.23 min\n",
            "Size of table (171, 14) time: 290.87 min\n",
            "Size of table (172, 14) time: 291.63 min\n",
            "Size of table (173, 14) time: 292.27 min\n",
            "Size of table (174, 14) time: 292.90 min\n",
            "Size of table (175, 14) time: 293.64 min\n",
            "Size of table (176, 14) time: 294.28 min\n",
            "Size of table (177, 14) time: 295.03 min\n",
            "Size of table (178, 14) time: 295.79 min\n",
            "Size of table (179, 14) time: 296.41 min\n",
            "Size of table (180, 14) time: 297.15 min\n",
            "Size of table (181, 14) time: 297.79 min\n",
            "Size of table (182, 14) time: 298.44 min\n",
            "Size of table (183, 14) time: 299.19 min\n",
            "Size of table (184, 14) time: 299.95 min\n",
            "Size of table (185, 14) time: 300.58 min\n",
            "Size of table (186, 14) time: 301.34 min\n",
            "Size of table (187, 14) time: 301.96 min\n"
          ]
        },
        {
          "name": "stderr",
          "output_type": "stream",
          "text": [
            "/usr/local/lib/python3.7/dist-packages/sklearn/metrics/_classification.py:1318: UndefinedMetricWarning:\n",
            "\n",
            "Precision is ill-defined and being set to 0.0 in labels with no predicted samples. Use `zero_division` parameter to control this behavior.\n",
            "\n"
          ]
        },
        {
          "name": "stdout",
          "output_type": "stream",
          "text": [
            "Size of table (188, 14) time: 302.57 min\n",
            "Size of table (189, 14) time: 303.19 min\n",
            "Size of table (190, 14) time: 303.95 min\n",
            "Size of table (191, 14) time: 304.57 min\n",
            "Size of table (192, 14) time: 305.17 min\n",
            "Size of table (193, 14) time: 306.61 min\n",
            "Size of table (194, 14) time: 308.06 min\n",
            "Size of table (195, 14) time: 309.50 min\n",
            "Size of table (196, 14) time: 310.70 min\n",
            "Size of table (197, 14) time: 312.14 min\n",
            "Size of table (198, 14) time: 313.36 min\n",
            "Size of table (199, 14) time: 314.80 min\n",
            "Size of table (200, 14) time: 315.95 min\n",
            "Size of table (201, 14) time: 317.11 min\n",
            "Size of table (202, 14) time: 318.54 min\n",
            "Size of table (203, 14) time: 319.99 min\n",
            "Size of table (204, 14) time: 321.12 min\n",
            "Size of table (205, 14) time: 322.34 min\n",
            "Size of table (206, 14) time: 323.77 min\n",
            "Size of table (207, 14) time: 325.21 min\n",
            "Size of table (208, 14) time: 326.43 min\n",
            "Size of table (209, 14) time: 327.88 min\n",
            "Size of table (210, 14) time: 329.08 min\n",
            "Size of table (211, 14) time: 330.25 min\n"
          ]
        },
        {
          "name": "stderr",
          "output_type": "stream",
          "text": [
            "/usr/local/lib/python3.7/dist-packages/sklearn/metrics/_classification.py:1318: UndefinedMetricWarning:\n",
            "\n",
            "Precision is ill-defined and being set to 0.0 in labels with no predicted samples. Use `zero_division` parameter to control this behavior.\n",
            "\n"
          ]
        },
        {
          "name": "stdout",
          "output_type": "stream",
          "text": [
            "Size of table (212, 14) time: 331.38 min\n",
            "Size of table (213, 14) time: 332.82 min\n",
            "Size of table (214, 14) time: 333.98 min\n",
            "Size of table (215, 14) time: 335.41 min\n",
            "Size of table (216, 14) time: 336.55 min\n",
            "Total runing loop : 20192.990369796753\n"
          ]
        }
      ],
      "source": [
        "count_loop = 0\n",
        "start_tm = time.time()\n",
        "for batch_i in lst_batch:\n",
        "  for epoch_j in lst_epoch:\n",
        "    for learn_k in lst_learn:\n",
        "      for opt_l in lst_opt:\n",
        "        for node_m in lst_node:\n",
        "          for act_n in lst_activation:\n",
        "            count_loop =count_loop+1\n",
        "            if count_loop>last_step:\n",
        "              inloop_tm = time.time()\n",
        "              model,_ = mlp_training(batch_i,epoch_j,learn_k,opt_l,node_m,act_n)\n",
        "              inloop_tm = time.time() - inloop_tm\n",
        "              preds_mlp = model.predict(x_test)\n",
        "              results = model.evaluate(x_test, y_test, batch_size=128 , verbose=0)\n",
        "              #Save Result\n",
        "              result_dic = {'batch_size':[batch_i]\n",
        "                              ,'epoch':[epoch_j]\n",
        "                              ,'learning_rate':[learn_k]\n",
        "                              ,'optimizer':[opt_l]\n",
        "                              ,'num_node':[node_m]\n",
        "                              ,'activation':[act_n]\n",
        "                              ,'layers':['|'.join([layer.name for layer in model.layers])]\n",
        "                              ,'runing_times':[inloop_tm]\n",
        "                              ,'auc':[roc_auc_score(y_test, preds_mlp[:,1])]\n",
        "                              ,'f1score':[f1_score(y_test, np.where(preds_mlp[:,1]>PREDS_RATIO,1,0), average='weighted')]\n",
        "                              ,'precision':[precision_score(y_test, np.where(preds_mlp[:,1]>PREDS_RATIO,1,0), average='weighted')]\n",
        "                              ,'recall':[recall_score(y_test, np.where(preds_mlp[:,1]>PREDS_RATIO,1,0), average='weighted')]\n",
        "                              ,'loss':[results[0]]\n",
        "                              ,'acc':[results[1]]\n",
        "                              }\n",
        "              df_result_MLP = df_result_MLP.append(pd.DataFrame(result_dic) ,ignore_index=True)\n",
        "              print(f\"Size of table {df_result_MLP.shape} time: {(time.time() - start_tm)/60:.2f} min\")\n",
        "              #Save Result to google Drive\n",
        "              df_result_MLP.to_csv(f\"/content/drive/MyDrive/Colab Notebooks/BADS7604_DL/data/mlp_result_l{len(model.layers):03d}_c{count_loop:03d}.csv\",index=False)\n",
        "            else :\n",
        "              print(f\"Skip step : {count_loop}\")\n",
        "print(f\"Total runing loop : {time.time() - start_tm}\")"
      ]
    },
    {
      "cell_type": "code",
      "source": [
        "Save result : https://docs.google.com/spreadsheets/d/1CtRk7Nco5w2Nefw355E39Xh0Xkl71nQDtBV6u_2n-5U/edit#gid=1840033743"
      ],
      "metadata": {
        "id": "adq7fZHUHakd"
      },
      "execution_count": null,
      "outputs": []
    }
  ],
  "metadata": {
    "accelerator": "GPU",
    "colab": {
      "background_execution": "on",
      "collapsed_sections": [
        "b2bDLmGDV3xE",
        "sNSGE6gb7ZJJ",
        "DG8juyY_Wn_E",
        "PSDd-TUizRAL",
        "ZBylkpfpzv3w",
        "gWNXPx350s-w",
        "3QTN7dYrhv-L",
        "r2d3h1D71vBa",
        "3V-mGxvS469Q",
        "fnYXFq2t6oqs",
        "cZGvRhm_hGc6",
        "QY4wdRXSkgQ5",
        "Sh4XvOTqkp6W",
        "Pf1umIoo3Qun",
        "xjXVMJw93MeS",
        "YJM_9oSO3YpJ"
      ],
      "name": "6310422009_3layer_1-28node.ipynb",
      "provenance": [],
      "mount_file_id": "1j9TVKNLOtZJeVz4AkaRcZYaTou91VMe8",
      "authorship_tag": "ABX9TyNVEk2lJ35oKxoYwnMh2uwK",
      "include_colab_link": true
    },
    "kernelspec": {
      "display_name": "Python 3",
      "name": "python3"
    },
    "language_info": {
      "name": "python"
    }
  },
  "nbformat": 4,
  "nbformat_minor": 0
}