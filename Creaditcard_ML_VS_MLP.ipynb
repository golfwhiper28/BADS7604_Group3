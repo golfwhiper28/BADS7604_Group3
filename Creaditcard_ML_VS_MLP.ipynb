{
  "nbformat": 4,
  "nbformat_minor": 0,
  "metadata": {
    "colab": {
      "name": "Creaditcard_ML_VS_MLP.ipynb",
      "provenance": [],
      "collapsed_sections": [
        "b2bDLmGDV3xE",
        "DG8juyY_Wn_E",
        "PSDd-TUizRAL",
        "ZBylkpfpzv3w",
        "gWNXPx350s-w",
        "3QTN7dYrhv-L",
        "r2d3h1D71vBa",
        "3V-mGxvS469Q",
        "fnYXFq2t6oqs",
        "WzcvAOcwkYWQ",
        "QY4wdRXSkgQ5",
        "Sh4XvOTqkp6W"
      ],
      "toc_visible": true,
      "mount_file_id": "1j9TVKNLOtZJeVz4AkaRcZYaTou91VMe8",
      "authorship_tag": "ABX9TyNpTeKXQJMY4LlZyc54rruD",
      "include_colab_link": true
    },
    "kernelspec": {
      "name": "python3",
      "display_name": "Python 3"
    },
    "language_info": {
      "name": "python"
    },
    "accelerator": "GPU"
  },
  "cells": [
    {
      "cell_type": "markdown",
      "metadata": {
        "id": "view-in-github",
        "colab_type": "text"
      },
      "source": [
        "<a href=\"https://colab.research.google.com/github/taitip-supha/BADS7604_Group3/blob/main/Creaditcard_ML_VS_MLP.ipynb\" target=\"_parent\"><img src=\"https://colab.research.google.com/assets/colab-badge.svg\" alt=\"Open In Colab\"/></a>"
      ]
    },
    {
      "cell_type": "markdown",
      "source": [
        "# Seting Import package and Parameter"
      ],
      "metadata": {
        "id": "b2bDLmGDV3xE"
      }
    },
    {
      "cell_type": "markdown",
      "source": [
        "ref : "
      ],
      "metadata": {
        "id": "jV0qDUyVWDS8"
      }
    },
    {
      "cell_type": "code",
      "source": [
        "#Set Environment and Parameter\n",
        "import pandas as pd \n",
        "import numpy as np\n",
        "import matplotlib\n",
        "import matplotlib.pyplot as plt\n",
        "import seaborn as sns\n",
        "%matplotlib inline \n",
        "import plotly.graph_objs as go\n",
        "import plotly.figure_factory as ff\n",
        "from plotly import tools\n",
        "from plotly.offline import download_plotlyjs, init_notebook_mode, plot, iplot\n",
        "init_notebook_mode(connected=True)\n",
        "\n",
        "\n",
        "import gc\n",
        "from datetime import datetime \n",
        "from sklearn.model_selection import train_test_split\n",
        "from sklearn.model_selection import KFold\n",
        "from sklearn.metrics import roc_auc_score ,f1_score ,precision_score ,recall_score\n",
        "from sklearn.ensemble import RandomForestClassifier\n",
        "from sklearn.ensemble import AdaBoostClassifier\n",
        "from sklearn import svm\n",
        "import lightgbm as lgb\n",
        "from lightgbm import LGBMClassifier\n",
        "import xgboost as xgb\n",
        "\n",
        "import time\n",
        "\n",
        "pd.set_option('display.max_columns', 100)\n",
        "\n",
        "\n",
        "\n",
        "RANDOM_STATE = 2018\n",
        "PREDS_RATIO = 0.5"
      ],
      "metadata": {
        "colab": {
          "base_uri": "https://localhost:8080/",
          "height": 0
        },
        "id": "ZN8SMaxuVcUT",
        "outputId": "ff4435a1-7222-4e94-814b-b8a93286c22f"
      },
      "execution_count": 2,
      "outputs": [
        {
          "output_type": "display_data",
          "data": {
            "text/html": [
              "        <script type=\"text/javascript\">\n",
              "        window.PlotlyConfig = {MathJaxConfig: 'local'};\n",
              "        if (window.MathJax) {MathJax.Hub.Config({SVG: {font: \"STIX-Web\"}});}\n",
              "        if (typeof require !== 'undefined') {\n",
              "        require.undef(\"plotly\");\n",
              "        requirejs.config({\n",
              "            paths: {\n",
              "                'plotly': ['https://cdn.plot.ly/plotly-latest.min']\n",
              "            }\n",
              "        });\n",
              "        require(['plotly'], function(Plotly) {\n",
              "            window._Plotly = Plotly;\n",
              "        });\n",
              "        }\n",
              "        </script>\n",
              "        "
            ]
          },
          "metadata": {}
        }
      ]
    },
    {
      "cell_type": "markdown",
      "source": [
        "# Import data"
      ],
      "metadata": {
        "id": "DG8juyY_Wn_E"
      }
    },
    {
      "cell_type": "code",
      "source": [
        "from google.colab import drive\n",
        "drive.mount('/content/drive')"
      ],
      "metadata": {
        "colab": {
          "base_uri": "https://localhost:8080/"
        },
        "id": "DaOHCQlAxgi-",
        "outputId": "c2c1ae89-77a2-4f8d-c6e9-1c8e1ae167e1"
      },
      "execution_count": 3,
      "outputs": [
        {
          "output_type": "stream",
          "name": "stdout",
          "text": [
            "Drive already mounted at /content/drive; to attempt to forcibly remount, call drive.mount(\"/content/drive\", force_remount=True).\n"
          ]
        }
      ]
    },
    {
      "cell_type": "code",
      "source": [
        "data_df = pd.read_csv(\"/content/drive/MyDrive/Colab Notebooks/BADS7604_DL/data/creditcard.csv\")\n",
        "data_df.head(3)\n",
        "print(f\"Size od data frame {data_df.shape}\")"
      ],
      "metadata": {
        "colab": {
          "base_uri": "https://localhost:8080/"
        },
        "id": "2MkllMpSWqhF",
        "outputId": "f38888ab-4007-47a9-b48d-fcaf60781fd2"
      },
      "execution_count": 4,
      "outputs": [
        {
          "output_type": "stream",
          "name": "stdout",
          "text": [
            "Size od data frame (284807, 31)\n"
          ]
        }
      ]
    },
    {
      "cell_type": "code",
      "source": [
        "#Define predictors and target values\n",
        "target = 'Class'\n",
        "predictors = ['V1', 'V2', 'V3', 'V4', 'V5', 'V6', 'V7', 'V8', 'V9', 'V10','V11', 'V12', 'V13', 'V14', 'V15',\n",
        "                   'V16', 'V17', 'V18', 'V19','V20', 'V21', 'V22', 'V23', 'V24', 'V25', 'V26', 'V27', 'V28', 'Amount']"
      ],
      "metadata": {
        "id": "bfKDXnUDWvUz"
      },
      "execution_count": 5,
      "outputs": []
    },
    {
      "cell_type": "code",
      "source": [
        "df_x = data_df[predictors]\n",
        "df_y = data_df[target]"
      ],
      "metadata": {
        "id": "q1Qa4CLPymy7"
      },
      "execution_count": 6,
      "outputs": []
    },
    {
      "cell_type": "markdown",
      "source": [
        "# Scaling predictors"
      ],
      "metadata": {
        "id": "PSDd-TUizRAL"
      }
    },
    {
      "cell_type": "code",
      "source": [
        "from sklearn.preprocessing import MinMaxScaler\n",
        "scaler = MinMaxScaler()\n",
        "df_x = pd.DataFrame(scaler.fit_transform(df_x))"
      ],
      "metadata": {
        "id": "TTFt5V4vzLao"
      },
      "execution_count": 7,
      "outputs": []
    },
    {
      "cell_type": "markdown",
      "source": [
        "# Split data in train, test"
      ],
      "metadata": {
        "id": "ZBylkpfpzv3w"
      }
    },
    {
      "cell_type": "code",
      "source": [
        "TEST_SIZE = 0.20 # test size using_train_test_split\n",
        "x_train, x_test, y_train, y_test = train_test_split(df_x, df_y, test_size=TEST_SIZE, random_state=RANDOM_STATE, shuffle=True )\n",
        "print(f\"Proportion of Target: {y_train.mean()}\")"
      ],
      "metadata": {
        "colab": {
          "base_uri": "https://localhost:8080/"
        },
        "id": "qKy9te-Kzjhw",
        "outputId": "89d38a38-106a-4c02-dfe6-f5eb1223b748"
      },
      "execution_count": 8,
      "outputs": [
        {
          "output_type": "stream",
          "name": "stdout",
          "text": [
            "Proportion of Target: 0.0017204678619236761\n"
          ]
        }
      ]
    },
    {
      "cell_type": "markdown",
      "source": [
        "# Oversampling Trainig Set"
      ],
      "metadata": {
        "id": "gWNXPx350s-w"
      }
    },
    {
      "cell_type": "code",
      "source": [
        "from imblearn.over_sampling import SMOTE\n",
        "smote = SMOTE(random_state = RANDOM_STATE ,sampling_strategy='minority')\n",
        "x_train, y_train = smote.fit_resample(x_train,y_train)\n",
        "print(f\"Proportion after oversampling : {y_train.mean()}\")"
      ],
      "metadata": {
        "colab": {
          "base_uri": "https://localhost:8080/"
        },
        "id": "dernq4kG0rgc",
        "outputId": "57206177-393d-44b9-f215-053cc9cc58c7"
      },
      "execution_count": 9,
      "outputs": [
        {
          "output_type": "stream",
          "name": "stdout",
          "text": [
            "Proportion after oversampling : 0.5\n"
          ]
        }
      ]
    },
    {
      "cell_type": "markdown",
      "source": [
        "# Prepare Data in Numpy"
      ],
      "metadata": {
        "id": "3QTN7dYrhv-L"
      }
    },
    {
      "cell_type": "code",
      "source": [
        "#Predictor\n",
        "x_train = x_train.values.astype(np.float32)\n",
        "x_test  = x_test.values.astype(np.float32)\n",
        "print( f\" x_train.shape={x_train.shape}, x_train.dtype={x_train.dtype}, min(x_train)={np.min(x_train):0.4f}, max(x_train)={np.max(x_train):0.4f}\")\n",
        "print( f\" x_test.shape={x_test.shape}, x_test.dtype={x_test.dtype}, min(x_test)={np.min(x_test):0.4f}, max(x_test)={np.max(x_test):0.4f}\")"
      ],
      "metadata": {
        "colab": {
          "base_uri": "https://localhost:8080/"
        },
        "id": "fVaxQwkAhzdz",
        "outputId": "2e65b2ab-be53-49e3-f775-0e390c851932"
      },
      "execution_count": 10,
      "outputs": [
        {
          "output_type": "stream",
          "name": "stdout",
          "text": [
            " x_train.shape=(454906, 29), x_train.dtype=float32, min(x_train)=0.0000, max(x_train)=1.0000\n",
            " x_test.shape=(56962, 29), x_test.dtype=float32, min(x_test)=0.0000, max(x_test)=1.0000\n"
          ]
        }
      ]
    },
    {
      "cell_type": "code",
      "source": [
        "#Target\n",
        "y_train = y_train.values\n",
        "y_test = y_test.values\n",
        "print( f\" y_train.shape={y_train.shape}, y_train.dtype={y_train.dtype}, min(y_train)={np.min(y_train)}, max(y_train)={np.max(y_train)}\")\n",
        "print( f\" y_test.shape={y_test.shape}, y_test.dtype={y_test.dtype}, min(y_test)={np.min(y_test)}, max(y_test)={np.max(y_test)}\")"
      ],
      "metadata": {
        "colab": {
          "base_uri": "https://localhost:8080/"
        },
        "id": "UfUf1izHhzgx",
        "outputId": "53697a46-dce3-4c62-99e4-d1e59ad404e4"
      },
      "execution_count": 11,
      "outputs": [
        {
          "output_type": "stream",
          "name": "stdout",
          "text": [
            " y_train.shape=(454906,), y_train.dtype=int64, min(y_train)=0, max(y_train)=1\n",
            " y_test.shape=(56962,), y_test.dtype=int64, min(y_test)=0, max(y_test)=1\n"
          ]
        }
      ]
    },
    {
      "cell_type": "markdown",
      "source": [
        "# XGBoost"
      ],
      "metadata": {
        "id": "r2d3h1D71vBa"
      }
    },
    {
      "cell_type": "code",
      "source": [
        "# Prepare the train and valid datasets\n",
        "dtrain = xgb.DMatrix(x_train, y_train)\n",
        "dtest = xgb.DMatrix(x_test, y_test)\n",
        "\n",
        "#What to monitor (in this case, **train** and **valid**)\n",
        "watchlist = [(dtrain, 'train')]\n",
        "\n",
        "# Set xgboost parameters\n",
        "params = {}\n",
        "params['objective'] = 'binary:logistic'\n",
        "params['eta'] = 0.039\n",
        "params['silent'] = True\n",
        "params['max_depth'] = 2\n",
        "params['subsample'] = 0.8\n",
        "params['colsample_bytree'] = 0.9\n",
        "params['eval_metric'] = 'auc'\n",
        "params['random_state'] = RANDOM_STATE"
      ],
      "metadata": {
        "id": "sgxvxTn31AYD"
      },
      "execution_count": 11,
      "outputs": []
    },
    {
      "cell_type": "code",
      "source": [
        "#Run Model\n",
        "start_tm = time.time()\n",
        "model_xgboost = xgb.train(params, \n",
        "                dtrain, \n",
        "                500,  #iterations\n",
        "                watchlist, \n",
        "                early_stopping_rounds=50, \n",
        "                maximize=True, \n",
        "                verbose_eval=50  ) #Print out metric result\n",
        "print(f\">>>>> Training Time >>>> {time.time() - start_tm} seconds\")"
      ],
      "metadata": {
        "colab": {
          "base_uri": "https://localhost:8080/"
        },
        "id": "SeXA3Z4S1L1F",
        "outputId": "904a4c71-b1e9-4cd4-d9ee-e76e42bae18d"
      },
      "execution_count": 12,
      "outputs": [
        {
          "output_type": "stream",
          "name": "stdout",
          "text": [
            "[0]\ttrain-auc:0.95904\n",
            "Will train until train-auc hasn't improved in 50 rounds.\n",
            "[50]\ttrain-auc:0.985495\n",
            "[100]\ttrain-auc:0.991051\n",
            "[150]\ttrain-auc:0.99375\n",
            "[200]\ttrain-auc:0.995382\n",
            "[250]\ttrain-auc:0.996422\n",
            "[300]\ttrain-auc:0.997128\n",
            "[350]\ttrain-auc:0.997722\n",
            "[400]\ttrain-auc:0.998215\n",
            "[450]\ttrain-auc:0.998543\n",
            "[499]\ttrain-auc:0.998806\n",
            ">>>>> Training Time >>>> 427.38291597366333 seconds\n"
          ]
        }
      ]
    },
    {
      "cell_type": "code",
      "source": [
        "preds_xgboost = model_xgboost.predict(dtest)"
      ],
      "metadata": {
        "id": "BAOqyqnk2J4d"
      },
      "execution_count": 13,
      "outputs": []
    },
    {
      "cell_type": "code",
      "source": [
        "roc_auc_score(y_test, preds_xgboost)"
      ],
      "metadata": {
        "colab": {
          "base_uri": "https://localhost:8080/"
        },
        "id": "pCT52fsK2P11",
        "outputId": "821a9990-2193-4e84-fb34-6a7dd76ba86b"
      },
      "execution_count": 14,
      "outputs": [
        {
          "output_type": "execute_result",
          "data": {
            "text/plain": [
              "0.9684169568428826"
            ]
          },
          "metadata": {},
          "execution_count": 14
        }
      ]
    },
    {
      "cell_type": "code",
      "source": [
        "cm = pd.crosstab(y_test, np.where(preds_xgboost>PREDS_RATIO,1,0), rownames=['Actual'], colnames=['Predicted'])\n",
        "fig, (ax1) = plt.subplots(ncols=1, figsize=(5,5))\n",
        "sns.heatmap(cm, \n",
        "            xticklabels=['Not Fraud', 'Fraud'],\n",
        "            yticklabels=['Not Fraud', 'Fraud'],\n",
        "            annot=True,ax=ax1,\n",
        "            linewidths=.2,linecolor=\"Darkblue\", cmap=\"Blues\")\n",
        "plt.title('Confusion Matrix', fontsize=14)\n",
        "plt.show()"
      ],
      "metadata": {
        "colab": {
          "base_uri": "https://localhost:8080/",
          "height": 0
        },
        "id": "M3FRA5336G4c",
        "outputId": "043bc18f-e730-462d-c182-881f9a726282"
      },
      "execution_count": 15,
      "outputs": [
        {
          "output_type": "display_data",
          "data": {
            "image/png": "[encoded data removed]",
            "text/plain": [
              "<Figure size 360x360 with 2 Axes>"
            ]
          },
          "metadata": {
            "needs_background": "light"
          }
        }
      ]
    },
    {
      "cell_type": "markdown",
      "source": [
        "# LightGBM"
      ],
      "metadata": {
        "id": "3V-mGxvS469Q"
      }
    },
    {
      "cell_type": "code",
      "source": [
        "params = {\n",
        "          'boosting_type': 'gbdt',\n",
        "          'objective': 'binary',\n",
        "          'metric':'auc',\n",
        "          'learning_rate': 0.05,\n",
        "          'num_leaves': 7,  # we should let it be smaller than 2^(max_depth)\n",
        "          'max_depth': 4,  # -1 means no limit\n",
        "          'min_child_samples': 100,  # Minimum number of data need in a child(min_data_in_leaf)\n",
        "          'max_bin': 100,  # Number of bucketed bin for feature values\n",
        "          'subsample': 0.9,  # Subsample ratio of the training instance.\n",
        "          'subsample_freq': 1,  # frequence of subsample, <=0 means no enable\n",
        "          'colsample_bytree': 0.7,  # Subsample ratio of columns when constructing each tree.\n",
        "          'min_child_weight': 0,  # Minimum sum of instance weight(hessian) needed in a child(leaf)\n",
        "          'min_split_gain': 0,  # lambda_l1, lambda_l2 and min_gain_to_split to regularization\n",
        "          'nthread': 8,\n",
        "          'verbose': 0,\n",
        "          'scale_pos_weight':150, # because training data is extremely unbalanced \n",
        "         }"
      ],
      "metadata": {
        "id": "IyC7R9rN321M"
      },
      "execution_count": 16,
      "outputs": []
    },
    {
      "cell_type": "code",
      "source": [
        "#Prepare Model\n",
        "dtrain = lgb.Dataset(x_train,\n",
        "                     label=y_train,\n",
        "                     feature_name=predictors)"
      ],
      "metadata": {
        "id": "oeU559w-5Dbt"
      },
      "execution_count": 17,
      "outputs": []
    },
    {
      "cell_type": "code",
      "source": [
        "#Run Model\n",
        "start_tm = time.time()\n",
        "evals_results = {}\n",
        "model_lgbm = lgb.train(params, \n",
        "                  dtrain, \n",
        "                  valid_sets=[dtrain],\n",
        "                  valid_names=['train'],  \n",
        "                  evals_result=evals_results, \n",
        "                  num_boost_round=500, #iterations\n",
        "                  early_stopping_rounds=2*50,\n",
        "                  verbose_eval=50, \n",
        "                  feval=None)\n",
        "print(f\">>>>> Training Time >>>> {time.time() - start_tm} seconds\")\n"
      ],
      "metadata": {
        "colab": {
          "base_uri": "https://localhost:8080/"
        },
        "id": "SGQazLIz5O63",
        "outputId": "d72c200c-c721-47f7-ed61-bd835560a59a"
      },
      "execution_count": 18,
      "outputs": [
        {
          "output_type": "stream",
          "name": "stdout",
          "text": [
            "Training until validation scores don't improve for 100 rounds.\n",
            "[50]\ttrain's auc: 0.991914\n",
            "[100]\ttrain's auc: 0.997569\n",
            "[150]\ttrain's auc: 0.998673\n",
            "[200]\ttrain's auc: 0.999285\n",
            "[250]\ttrain's auc: 0.999597\n",
            "[300]\ttrain's auc: 0.999706\n",
            "[350]\ttrain's auc: 0.999766\n",
            "[400]\ttrain's auc: 0.999805\n",
            "[450]\ttrain's auc: 0.99986\n",
            "[500]\ttrain's auc: 0.999875\n",
            "Did not meet early stopping. Best iteration is:\n",
            "[500]\ttrain's auc: 0.999875\n",
            ">>>>> Training Time >>>> 53.72783875465393 seconds\n"
          ]
        }
      ]
    },
    {
      "cell_type": "code",
      "source": [
        "preds_lgbm = model_lgbm.predict(x_test)"
      ],
      "metadata": {
        "id": "9sBKThqz5dDB"
      },
      "execution_count": 19,
      "outputs": []
    },
    {
      "cell_type": "code",
      "source": [
        "roc_auc_score(y_test, preds_lgbm)"
      ],
      "metadata": {
        "colab": {
          "base_uri": "https://localhost:8080/"
        },
        "id": "W4HPfp5T7kvJ",
        "outputId": "d027d200-53bf-4aff-a749-504fef3306e5"
      },
      "execution_count": 20,
      "outputs": [
        {
          "output_type": "execute_result",
          "data": {
            "text/plain": [
              "0.972923393478949"
            ]
          },
          "metadata": {},
          "execution_count": 20
        }
      ]
    },
    {
      "cell_type": "code",
      "source": [
        "cm = pd.crosstab(y_test, np.where(preds_lgbm>0.5,1,0), rownames=['Actual'], colnames=['Predicted'])\n",
        "fig, (ax1) = plt.subplots(ncols=1, figsize=(5,5))\n",
        "sns.heatmap(cm, \n",
        "            xticklabels=['Not Fraud', 'Fraud'],\n",
        "            yticklabels=['Not Fraud', 'Fraud'],\n",
        "            annot=True,ax=ax1,\n",
        "            linewidths=.2,linecolor=\"Darkblue\", cmap=\"Blues\")\n",
        "plt.title('Confusion Matrix', fontsize=14)\n",
        "plt.show()"
      ],
      "metadata": {
        "colab": {
          "base_uri": "https://localhost:8080/",
          "height": 0
        },
        "id": "ewWLjbA98at3",
        "outputId": "df0075ec-f380-46ff-d0de-1f22bdad3257"
      },
      "execution_count": 21,
      "outputs": [
        {
          "output_type": "display_data",
          "data": {
            "image/png": "[encoded data removed]",
            "text/plain": [
              "<Figure size 360x360 with 2 Axes>"
            ]
          },
          "metadata": {
            "needs_background": "light"
          }
        }
      ]
    },
    {
      "cell_type": "markdown",
      "source": [
        "# Random Forest Classifier"
      ],
      "metadata": {
        "id": "fnYXFq2t6oqs"
      }
    },
    {
      "cell_type": "code",
      "source": [
        "#Define model parameters\n",
        "clf = RandomForestClassifier( random_state=RANDOM_STATE,\n",
        "                             criterion='gini', #metric used for RandomForrestClassifier\n",
        "                             n_estimators=100,  #number of estimators used for RandomForrestClassifier\n",
        "                             verbose=False)"
      ],
      "metadata": {
        "id": "jdDxLsYS6t8Y"
      },
      "execution_count": null,
      "outputs": []
    },
    {
      "cell_type": "code",
      "source": [
        "#Run Model\n",
        "start_tm = time.time()\n",
        "clf.fit(x_train, y_train)\n",
        "print(f\">>>>> Training Time >>>> {time.time() - start_tm} seconds\")"
      ],
      "metadata": {
        "colab": {
          "base_uri": "https://localhost:8080/"
        },
        "id": "TeMaVYkM6y7j",
        "outputId": "6ce2f827-a21d-46c2-e0b6-c5513e99f802"
      },
      "execution_count": null,
      "outputs": [
        {
          "output_type": "stream",
          "name": "stdout",
          "text": [
            ">>>>> Training Time >>>> 538.4913191795349 seconds\n"
          ]
        }
      ]
    },
    {
      "cell_type": "code",
      "source": [
        "preds_clf = clf.predict(x_test)\n"
      ],
      "metadata": {
        "id": "i_aF-99z633b"
      },
      "execution_count": null,
      "outputs": []
    },
    {
      "cell_type": "code",
      "source": [
        "roc_auc_score(y_test.values, preds_clf)"
      ],
      "metadata": {
        "colab": {
          "base_uri": "https://localhost:8080/"
        },
        "id": "Mkdsxa0PL0S7",
        "outputId": "84789eca-e7db-4f17-b563-8558cc44dec4"
      },
      "execution_count": null,
      "outputs": [
        {
          "output_type": "execute_result",
          "data": {
            "text/plain": [
              "0.9148593085012837"
            ]
          },
          "metadata": {},
          "execution_count": 57
        }
      ]
    },
    {
      "cell_type": "code",
      "source": [
        "cm = pd.crosstab(y_test, preds_clf, rownames=['Actual'], colnames=['Predicted'])\n",
        "fig, (ax1) = plt.subplots(ncols=1, figsize=(5,5))\n",
        "sns.heatmap(cm, \n",
        "            xticklabels=['Not Fraud', 'Fraud'],\n",
        "            yticklabels=['Not Fraud', 'Fraud'],\n",
        "            annot=True,ax=ax1,\n",
        "            linewidths=.2,linecolor=\"Darkblue\", cmap=\"Blues\")\n",
        "plt.title('Confusion Matrix', fontsize=14)\n",
        "plt.show()"
      ],
      "metadata": {
        "colab": {
          "base_uri": "https://localhost:8080/",
          "height": 351
        },
        "id": "V63j0A6V7jRQ",
        "outputId": "b3477152-8bdc-4a1f-81f5-7c2a5803439b"
      },
      "execution_count": null,
      "outputs": [
        {
          "output_type": "display_data",
          "data": {
            "image/png": "[encoded data removed]",
            "text/plain": [
              "<Figure size 360x360 with 2 Axes>"
            ]
          },
          "metadata": {
            "needs_background": "light"
          }
        }
      ]
    },
    {
      "cell_type": "code",
      "source": [
        ""
      ],
      "metadata": {
        "id": "3WXVWPOqhFpo"
      },
      "execution_count": null,
      "outputs": []
    },
    {
      "cell_type": "markdown",
      "source": [
        "# Deep Learning MLP"
      ],
      "metadata": {
        "id": "cZGvRhm_hGc6"
      }
    },
    {
      "cell_type": "markdown",
      "source": [
        "## setting MPL Enviroment"
      ],
      "metadata": {
        "id": "WzcvAOcwkYWQ"
      }
    },
    {
      "cell_type": "code",
      "source": [
        "!nvidia-smi -L"
      ],
      "metadata": {
        "colab": {
          "base_uri": "https://localhost:8080/"
        },
        "id": "lV1A17H3mkg4",
        "outputId": "fc2150f8-a3f6-465a-fb30-8a7e21a43ba0"
      },
      "execution_count": 12,
      "outputs": [
        {
          "output_type": "stream",
          "name": "stdout",
          "text": [
            "GPU 0: Tesla K80 (UUID: GPU-417756ed-8086-11b7-1573-2ec5a617f3c7)\n"
          ]
        }
      ]
    },
    {
      "cell_type": "code",
      "source": [
        "import sys\n",
        "import tensorflow as tf"
      ],
      "metadata": {
        "id": "JxoQql_Zj4bt"
      },
      "execution_count": 13,
      "outputs": []
    },
    {
      "cell_type": "code",
      "source": [
        "print(f\"Python :{sys.version}\\nNumpy:{np.__version__}\\nTensorFlow{tf.__version__}\")\n",
        "print(f\"tf.keras.backend.image_data_firmat() = {tf.keras.backend.image_data_format()}\")\n",
        "#Count the number ofGPUs as detected by tensorflow\n",
        "gpus = tf.config.list_physical_devices('GPU')\n",
        "print(f\"TensorFlow detect {len(gpus)} GPUs\")\n",
        "for i,gpu in enumerate(gpus):\n",
        "  print(f\"> GPU No. {i} : Name = {gpu.name}  ,Type = {gpu.device_type}\")"
      ],
      "metadata": {
        "colab": {
          "base_uri": "https://localhost:8080/"
        },
        "id": "3sSEOzSQj5nT",
        "outputId": "09e1ea65-edeb-474f-a320-d77f0b5ab22e"
      },
      "execution_count": 14,
      "outputs": [
        {
          "output_type": "stream",
          "name": "stdout",
          "text": [
            "Python :3.7.12 (default, Sep 10 2021, 00:21:48) \n",
            "[GCC 7.5.0]\n",
            "Numpy:1.19.5\n",
            "TensorFlow2.7.0\n",
            "tf.keras.backend.image_data_firmat() = channels_last\n",
            "TensorFlow detect 1 GPUs\n",
            "> GPU No. 0 : Name = /physical_device:GPU:0  ,Type = GPU\n"
          ]
        }
      ]
    },
    {
      "cell_type": "code",
      "source": [
        "#seting\n",
        "np.random.seed(1234)\n",
        "tf.random.set_seed(5678)\n",
        "_,input_dim = x_train.shape #the number of features per one input\n",
        "output_din = len(set(y_train)) #the number of output classes"
      ],
      "metadata": {
        "id": "8J4jQEoXhJPf"
      },
      "execution_count": 15,
      "outputs": []
    },
    {
      "cell_type": "markdown",
      "source": [
        "## Create the network architecture"
      ],
      "metadata": {
        "id": "QY4wdRXSkgQ5"
      }
    },
    {
      "cell_type": "code",
      "source": [
        "model = tf.keras.models.Sequential()\n",
        "\n",
        "#Input layer\n",
        "model.add(tf.keras.Input(shape=(input_dim,)))\n",
        "\n",
        "#Hidden layer\n",
        "model.add(tf.keras.layers.Dense(32, activation='relu', name='hidden1')) #use defult weight initialization, don't use any regularization\n",
        "model.add(tf.keras.layers.BatchNormalization(axis =-1, name='bn1'))\n",
        "\n",
        "#output layer\n",
        "model.add(tf.keras.layers.Dense(output_din, activation='softmax', name='output'))\n",
        "\n",
        "model.summary()"
      ],
      "metadata": {
        "colab": {
          "base_uri": "https://localhost:8080/"
        },
        "id": "eJY_fmg0hZ4Y",
        "outputId": "7a43154d-d558-43f7-8e01-b175078438d8"
      },
      "execution_count": 26,
      "outputs": [
        {
          "output_type": "stream",
          "name": "stdout",
          "text": [
            "Model: \"sequential\"\n",
            "_________________________________________________________________\n",
            " Layer (type)                Output Shape              Param #   \n",
            "=================================================================\n",
            " hidden1 (Dense)             (None, 32)                960       \n",
            "                                                                 \n",
            " bn1 (BatchNormalization)    (None, 32)                128       \n",
            "                                                                 \n",
            " output (Dense)              (None, 2)                 66        \n",
            "                                                                 \n",
            "=================================================================\n",
            "Total params: 1,154\n",
            "Trainable params: 1,090\n",
            "Non-trainable params: 64\n",
            "_________________________________________________________________\n"
          ]
        }
      ]
    },
    {
      "cell_type": "markdown",
      "source": [
        "## Compile the model"
      ],
      "metadata": {
        "id": "Sh4XvOTqkp6W"
      }
    },
    {
      "cell_type": "code",
      "source": [
        "#Examples of compiling the model (only run one cell provided below)\n",
        "#1) complie with default values for both optimizer and loss\n",
        "# model.compile( optimizer='adam', loss='sparse_categorical_croseentropy', metrics=['acc'])\n",
        "#2) complie + Hyperparameter tuning\n",
        "model.compile(optimizer=tf.keras.optimizers.Adam(learning_rate=0.001), loss=tf.keras.losses.SparseCategoricalCrossentropy(from_logits=False), metrics=['acc'])"
      ],
      "metadata": {
        "id": "C_qMWKNjku0d"
      },
      "execution_count": 27,
      "outputs": []
    },
    {
      "cell_type": "markdown",
      "source": [
        "## Training the model"
      ],
      "metadata": {
        "id": "kkNkR8hOk5M_"
      }
    },
    {
      "cell_type": "code",
      "source": [
        "start_tm = time.time()\n",
        "checkpoint_filepath = \"bestmodel_epoch{epoch:02d}_valloss{val_loss:.2f}.hdf5\"\n",
        "model_checkpoint_callback = tf.keras.callbacks.ModelCheckpoint(filepath=checkpoint_filepath, \n",
        "                                                               save_weights_only=True, \n",
        "                                                               monitor='val_acc', \n",
        "                                                               model='max', \n",
        "                                                               save_best_only=True)\n",
        "history = model.fit(x_train, y_train, batch_size=128, epochs=20, verbose=1, validation_split=0.2, callbacks=[model_checkpoint_callback])\n",
        "print(f\">>>>> Training Time >>>> {time.time() - start_tm} seconds\")"
      ],
      "metadata": {
        "colab": {
          "base_uri": "https://localhost:8080/"
        },
        "id": "YGz6p-mak3UD",
        "outputId": "2d23893a-c1ac-4cde-b384-5025b8d3e7ac"
      },
      "execution_count": 29,
      "outputs": [
        {
          "output_type": "stream",
          "name": "stdout",
          "text": [
            "Epoch 1/20\n",
            "2844/2844 [==============================] - 18s 6ms/step - loss: 0.1133 - acc: 0.9544 - val_loss: 0.2828 - val_acc: 0.8649\n",
            "Epoch 2/20\n",
            "2844/2844 [==============================] - 15s 5ms/step - loss: 0.1029 - acc: 0.9575 - val_loss: 0.2783 - val_acc: 0.8917\n",
            "Epoch 3/20\n",
            "2844/2844 [==============================] - 14s 5ms/step - loss: 0.0965 - acc: 0.9596 - val_loss: 0.2939 - val_acc: 0.8824\n",
            "Epoch 4/20\n",
            "2844/2844 [==============================] - 14s 5ms/step - loss: 0.0925 - acc: 0.9616 - val_loss: 0.0748 - val_acc: 0.9660\n",
            "Epoch 5/20\n",
            "2844/2844 [==============================] - 14s 5ms/step - loss: 0.0877 - acc: 0.9637 - val_loss: 0.1539 - val_acc: 0.9230\n",
            "Epoch 6/20\n",
            "2844/2844 [==============================] - 14s 5ms/step - loss: 0.0828 - acc: 0.9655 - val_loss: 0.1312 - val_acc: 0.9304\n",
            "Epoch 7/20\n",
            "2844/2844 [==============================] - 14s 5ms/step - loss: 0.0804 - acc: 0.9668 - val_loss: 0.0326 - val_acc: 0.9924\n",
            "Epoch 8/20\n",
            "2844/2844 [==============================] - 15s 5ms/step - loss: 0.0790 - acc: 0.9676 - val_loss: 0.0481 - val_acc: 0.9857\n",
            "Epoch 9/20\n",
            "2844/2844 [==============================] - 16s 6ms/step - loss: 0.0761 - acc: 0.9689 - val_loss: 0.0193 - val_acc: 0.9946\n",
            "Epoch 10/20\n",
            "2844/2844 [==============================] - 14s 5ms/step - loss: 0.0753 - acc: 0.9687 - val_loss: 0.0783 - val_acc: 0.9638\n",
            "Epoch 11/20\n",
            "2844/2844 [==============================] - 13s 5ms/step - loss: 0.0738 - acc: 0.9698 - val_loss: 1.7883 - val_acc: 0.6925\n",
            "Epoch 12/20\n",
            "2844/2844 [==============================] - 13s 5ms/step - loss: 0.0724 - acc: 0.9704 - val_loss: 0.2325 - val_acc: 0.9065\n",
            "Epoch 13/20\n",
            "2844/2844 [==============================] - 14s 5ms/step - loss: 0.0708 - acc: 0.9710 - val_loss: 0.6826 - val_acc: 0.8465\n",
            "Epoch 14/20\n",
            "2844/2844 [==============================] - 15s 5ms/step - loss: 0.0703 - acc: 0.9711 - val_loss: 0.4833 - val_acc: 0.8353\n",
            "Epoch 15/20\n",
            "2844/2844 [==============================] - 13s 5ms/step - loss: 0.0692 - acc: 0.9718 - val_loss: 0.0452 - val_acc: 0.9844\n",
            "Epoch 16/20\n",
            "2844/2844 [==============================] - 15s 5ms/step - loss: 0.0684 - acc: 0.9721 - val_loss: 0.1885 - val_acc: 0.9115\n",
            "Epoch 17/20\n",
            "2844/2844 [==============================] - 14s 5ms/step - loss: 0.0667 - acc: 0.9724 - val_loss: 0.0183 - val_acc: 0.9951\n",
            "Epoch 18/20\n",
            "2844/2844 [==============================] - 15s 5ms/step - loss: 0.0662 - acc: 0.9729 - val_loss: 0.0097 - val_acc: 0.9984\n",
            "Epoch 19/20\n",
            "2844/2844 [==============================] - 14s 5ms/step - loss: 0.0663 - acc: 0.9726 - val_loss: 0.0040 - val_acc: 0.9998\n",
            "Epoch 20/20\n",
            "2844/2844 [==============================] - 14s 5ms/step - loss: 0.0652 - acc: 0.9734 - val_loss: 0.0476 - val_acc: 0.9796\n",
            ">>>>> Training Time >>>> 286.36675357818604 seconds\n"
          ]
        }
      ]
    },
    {
      "cell_type": "code",
      "source": [
        "#Inspect the save file (sorted by modification date,  newest first)\n",
        "!ls -lt"
      ],
      "metadata": {
        "colab": {
          "base_uri": "https://localhost:8080/"
        },
        "id": "q7WgST9IlCDt",
        "outputId": "cc79ff74-8086-4939-ab58-b42155da9193"
      },
      "execution_count": 30,
      "outputs": [
        {
          "output_type": "stream",
          "name": "stdout",
          "text": [
            "total 200\n",
            "-rw-r--r-- 1 root root 21056 Jan 26 13:43 bestmodel_epoch19_valloss0.00.hdf5\n",
            "-rw-r--r-- 1 root root 21056 Jan 26 13:43 bestmodel_epoch18_valloss0.01.hdf5\n",
            "-rw-r--r-- 1 root root 21056 Jan 26 13:43 bestmodel_epoch17_valloss0.02.hdf5\n",
            "-rw-r--r-- 1 root root 21056 Jan 26 13:41 bestmodel_epoch09_valloss0.02.hdf5\n",
            "-rw-r--r-- 1 root root 21056 Jan 26 13:40 bestmodel_epoch07_valloss0.03.hdf5\n",
            "-rw-r--r-- 1 root root 21056 Jan 26 13:40 bestmodel_epoch04_valloss0.07.hdf5\n",
            "-rw-r--r-- 1 root root 21056 Jan 26 13:39 bestmodel_epoch02_valloss0.28.hdf5\n",
            "-rw-r--r-- 1 root root 21056 Jan 26 13:39 bestmodel_epoch01_valloss0.28.hdf5\n",
            "drwx------ 6 root root  4096 Jan 26 13:25 drive\n",
            "drwxr-xr-x 1 root root  4096 Jan  7 14:33 sample_data\n"
          ]
        }
      ]
    },
    {
      "cell_type": "markdown",
      "source": [
        "## Model Performance"
      ],
      "metadata": {
        "id": "4wpIHu8BCxYO"
      }
    },
    {
      "cell_type": "code",
      "source": [
        "#summary history for accuracy\n",
        "plt.figure(figsize=(15,5))\n",
        "plt.subplot(121)\n",
        "plt.plot(history.history['acc'])\n",
        "plt.plot(history.history['val_acc'])\n",
        "plt.title('Train Accuracy')\n",
        "plt.ylabel('accuracy')\n",
        "plt.xlabel('epoch')\n",
        "plt.legend(['train','test'] ,loc='upper left')\n",
        "plt.grid()\n",
        "\n",
        "#summary history for loss\n",
        "plt.subplot(122)\n",
        "plt.plot(history.history['loss'])\n",
        "plt.plot(history.history['val_loss'])\n",
        "plt.title('Train loss')\n",
        "plt.ylabel('loss')\n",
        "plt.xlabel('epoch')\n",
        "plt.legend(['train','test'] ,loc='upper left')\n",
        "plt.grid()\n",
        "plt.show()"
      ],
      "metadata": {
        "colab": {
          "base_uri": "https://localhost:8080/",
          "height": 350
        },
        "id": "37__pM9clFal",
        "outputId": "f88e82fd-376b-4cb4-fa0b-f533f310cf86"
      },
      "execution_count": 33,
      "outputs": [
        {
          "output_type": "display_data",
          "data": {
            "image/png": "[encoded data removed]",
            "text/plain": [
              "<Figure size 1080x360 with 2 Axes>"
            ]
          },
          "metadata": {
            "needs_background": "light"
          }
        }
      ]
    },
    {
      "cell_type": "code",
      "source": [
        "results = model.evaluate(x_test, y_test, batch_size=128)\n",
        "print(f\"{model.metrics_names} = {results}\")"
      ],
      "metadata": {
        "colab": {
          "base_uri": "https://localhost:8080/"
        },
        "id": "vD9H0UHtlSd8",
        "outputId": "9e106363-a768-4de2-c735-78030a85286d"
      },
      "execution_count": 21,
      "outputs": [
        {
          "output_type": "stream",
          "name": "stdout",
          "text": [
            "446/446 [==============================] - 1s 3ms/step - loss: 0.0893 - acc: 0.9667\n",
            "['loss', 'acc'] = [0.0893029198050499, 0.9666619896888733]\n"
          ]
        }
      ]
    },
    {
      "cell_type": "code",
      "source": [
        "preds_mlp = model.predict(x_test)"
      ],
      "metadata": {
        "id": "e2rP0Hrvot9o"
      },
      "execution_count": 18,
      "outputs": []
    },
    {
      "cell_type": "code",
      "source": [
        "pfm_auc = roc_auc_score(y_test, preds_mlp[:,1])\n",
        "pfm_f1 = f1_score(y_test, np.where(preds_mlp[:,1]>PREDS_RATIO,1,0), average='weighted')\n",
        "pfm_precision = precision_score(y_test, np.where(preds_mlp[:,1]>PREDS_RATIO,1,0), average='weighted')\n",
        "pfm_recall = recall_score(y_test, np.where(preds_mlp[:,1]>PREDS_RATIO,1,0), average='weighted')\n",
        "print(f\"AUC:{pfm_auc}\\nF1 Score:{pfm_f1}\\nPrecision:{pfm_precision}\\nRecall:{pfm_recall}\")"
      ],
      "metadata": {
        "colab": {
          "base_uri": "https://localhost:8080/"
        },
        "id": "UGw-VUFlpLZu",
        "outputId": "50cb1592-f718-423a-edb6-5f3d5ddbd036"
      },
      "execution_count": 20,
      "outputs": [
        {
          "output_type": "stream",
          "name": "stdout",
          "text": [
            "AUC:0.9710373360064719\n",
            "F1 Score:0.9814461515184617\n",
            "Precision:0.9981237714256764\n",
            "Recall:0.9666619851831045\n"
          ]
        }
      ]
    },
    {
      "cell_type": "code",
      "source": [
        "cm = pd.crosstab(y_test, np.where(preds_mlp[:,1]>PREDS_RATIO,1,0), rownames=['Actual'], colnames=['Predicted'])\n",
        "fig, (ax1) = plt.subplots(ncols=1, figsize=(5,5))\n",
        "sns.heatmap(cm, \n",
        "            xticklabels=['Not Fraud', 'Fraud'],\n",
        "            yticklabels=['Not Fraud', 'Fraud'],\n",
        "            annot=True,ax=ax1,\n",
        "            linewidths=.2,linecolor=\"Darkblue\", cmap=\"Blues\")\n",
        "plt.title('Confusion Matrix', fontsize=14)\n",
        "plt.show()"
      ],
      "metadata": {
        "colab": {
          "base_uri": "https://localhost:8080/",
          "height": 351
        },
        "id": "CnsTj0kAp-jG",
        "outputId": "5a90b44e-b654-45fb-97e1-4d06718be2c2"
      },
      "execution_count": 63,
      "outputs": [
        {
          "output_type": "display_data",
          "data": {
            "image/png": "[encoded data removed]",
            "text/plain": [
              "<Figure size 360x360 with 2 Axes>"
            ]
          },
          "metadata": {
            "needs_background": "light"
          }
        }
      ]
    },
    {
      "cell_type": "markdown",
      "source": [
        "# Loop Training DP-MLP"
      ],
      "metadata": {
        "id": "Iz6X0Yf3BecL"
      }
    },
    {
      "cell_type": "code",
      "source": [
        "import sys\n",
        "import tensorflow as tf\n",
        "#seting\n",
        "np.random.seed(1234)\n",
        "tf.random.set_seed(5678)\n",
        "_,input_dim = x_train.shape #the number of features per one input\n",
        "output_din = len(set(y_train)) #the number of output classes"
      ],
      "metadata": {
        "id": "UbErwOBUB9d_"
      },
      "execution_count": null,
      "outputs": []
    },
    {
      "cell_type": "code",
      "source": [
        "########################\n",
        "## Create the network architecture ##\n",
        "########################\n",
        "model = tf.keras.models.Sequential()\n",
        "\n",
        "#Input layer\n",
        "model.add(tf.keras.Input(shape=(input_dim,)))\n",
        "\n",
        "#Hidden layer\n",
        "model.add(tf.keras.layers.Dense(32, activation='relu', name='hidden1')) #use defult weight initialization, don't use any regularization\n",
        "model.add(tf.keras.layers.BatchNormalization(axis =-1, name='bn1'))\n",
        "\n",
        "#output layer\n",
        "model.add(tf.keras.layers.Dense(output_din, activation='softmax', name='output'))\n",
        "\n",
        "#print(model.summary())\n",
        "\n",
        "########################\n",
        "##         Compiling the model        ##\n",
        "########################\n",
        "model.compile(optimizer=tf.keras.optimizers.Adam(learning_rate=0.001), loss=tf.keras.losses.SparseCategoricalCrossentropy(from_logits=False), metrics=['acc'])\n",
        "\n",
        "start_tm = time.time()\n",
        "history = model.fit(x_train, y_train, batch_size=128, epochs=10, verbose=0, validation_split=0.2)\n",
        "training_tm = time.time() - start_tm\n"
      ],
      "metadata": {
        "id": "Nt0oG3YCBiJK"
      },
      "execution_count": 23,
      "outputs": []
    },
    {
      "cell_type": "code",
      "source": [
        "def mlp_training(batchSize,epochNum):\n",
        "  model = tf.keras.models.Sequential()\n",
        "  #Input layer\n",
        "  model.add(tf.keras.Input(shape=(input_dim,)))\n",
        "  #Hidden layer\n",
        "  model.add(tf.keras.layers.Dense(32, activation='relu', name='hidden1')) #use defult weight initialization, don't use any regularization\n",
        "  model.add(tf.keras.layers.BatchNormalization(axis =-1, name='bn1'))\n",
        "  #output layer\n",
        "  model.add(tf.keras.layers.Dense(output_din, activation='softmax', name='output'))\n",
        "  #Compiling the model\n",
        "  model.compile(optimizer=tf.keras.optimizers.Adam(learning_rate=0.001)\n",
        "                      , loss=tf.keras.losses.SparseCategoricalCrossentropy(from_logits=False)\n",
        "                      , metrics=['acc'])\n",
        "  #Training\n",
        "  history = model.fit(x_train, y_train, batch_size=batchSize, epochs=epochNum, verbose=0, validation_split=0.2)\n",
        "  return model,history"
      ],
      "metadata": {
        "id": "S7Zyp7LBH5Yl"
      },
      "execution_count": 32,
      "outputs": []
    },
    {
      "cell_type": "code",
      "source": [
        "start_tm = time.time()\n",
        "model,history = mlp_training(1000,5)\n",
        "training_tm = time.time() - start_tm"
      ],
      "metadata": {
        "id": "nwfi1HFHIx5S"
      },
      "execution_count": 33,
      "outputs": []
    },
    {
      "cell_type": "code",
      "source": [
        "preds_mlp = model.predict(x_test)\n",
        "pfm_auc = roc_auc_score(y_test, preds_mlp[:,1])\n",
        "pfm_f1 = f1_score(y_test, np.where(preds_mlp[:,1]>PREDS_RATIO,1,0), average='weighted')\n",
        "pfm_precision = precision_score(y_test, np.where(preds_mlp[:,1]>PREDS_RATIO,1,0), average='weighted')\n",
        "pfm_recall = recall_score(y_test, np.where(preds_mlp[:,1]>PREDS_RATIO,1,0), average='weighted')\n",
        "print(f\"Time:{training_tm}\\nAUC:{pfm_auc}\\nF1 Score:{pfm_f1}\\nPrecision:{pfm_precision}\\nRecall:{pfm_recall}\")\n",
        "results = model.evaluate(x_test, y_test, batch_size=128 , verbose=0)\n",
        "print(f\"{model.metrics_names} = {results}\")"
      ],
      "metadata": {
        "colab": {
          "base_uri": "https://localhost:8080/"
        },
        "id": "xSiPHAYIC3ex",
        "outputId": "6286151a-45f2-49ec-a249-d7f16edf9a14"
      },
      "execution_count": 34,
      "outputs": [
        {
          "output_type": "stream",
          "name": "stdout",
          "text": [
            "Time:11.229315757751465\n",
            "AUC:0.9785502620379164\n",
            "F1 Score:0.9966452708556439\n",
            "Precision:0.9984899593585503\n",
            "Recall:0.9954004424001967\n",
            "['loss', 'acc'] = [0.026143113151192665, 0.9954004287719727]\n"
          ]
        }
      ]
    },
    {
      "cell_type": "code",
      "source": [
        "#summary history for accuracy\n",
        "plt.figure(figsize=(15,5))\n",
        "plt.subplot(121)\n",
        "plt.plot(history.history['acc'])\n",
        "plt.plot(history.history['val_acc'])\n",
        "plt.title('Train Accuracy')\n",
        "plt.ylabel('accuracy')\n",
        "plt.xlabel('epoch')\n",
        "plt.legend(['train','test'] ,loc='upper left')\n",
        "plt.grid()\n",
        "\n",
        "#summary history for loss\n",
        "plt.subplot(122)\n",
        "plt.plot(history.history['loss'])\n",
        "plt.plot(history.history['val_loss'])\n",
        "plt.title('Train loss')\n",
        "plt.ylabel('loss')\n",
        "plt.xlabel('epoch')\n",
        "plt.legend(['train','test'] ,loc='upper left')\n",
        "plt.grid()\n",
        "plt.show()"
      ],
      "metadata": {
        "colab": {
          "base_uri": "https://localhost:8080/",
          "height": 350
        },
        "id": "JXICcbvaFbZ7",
        "outputId": "a76ad47c-c734-435a-aa13-4d0e8e5d8ce3"
      },
      "execution_count": 35,
      "outputs": [
        {
          "output_type": "display_data",
          "data": {
            "image/png": "[encoded data removed]",
            "text/plain": [
              "<Figure size 1080x360 with 2 Axes>"
            ]
          },
          "metadata": {
            "needs_background": "light"
          }
        }
      ]
    },
    {
      "cell_type": "code",
      "source": [
        ""
      ],
      "metadata": {
        "id": "VR2pHWZQJcFx"
      },
      "execution_count": null,
      "outputs": []
    }
  ]
}